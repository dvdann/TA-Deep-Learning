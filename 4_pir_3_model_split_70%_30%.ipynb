{
 "cells": [
  {
   "cell_type": "code",
   "execution_count": 34,
   "metadata": {
    "colab": {
     "base_uri": "https://localhost:8080/"
    },
    "id": "bYG97fymkmPF",
    "outputId": "b024092b-bc66-4b3f-9110-6f70b561d102"
   },
   "outputs": [],
   "source": [
    "#from google.colab import drive\n",
    "import pandas as pd\n",
    "import numpy as np\n",
    "import matplotlib.pyplot as plt\n",
    "import tensorflow as tf\n",
    "import pickle\n",
    "from tensorflow import keras\n",
    "from tensorflow.keras import layers\n",
    "from tensorflow.keras import metrics\n",
    "from tensorflow.keras.metrics import Accuracy\n",
    "from sklearn import preprocessing\n",
    "from sklearn.preprocessing import LabelEncoder\n",
    "from sklearn.model_selection import KFold\n",
    "from sklearn.model_selection import cross_val_score\n",
    "from sklearn.model_selection import StratifiedKFold\n",
    "from sklearn.metrics import classification_report\n",
    "from sklearn.model_selection import train_test_split\n",
    "from sklearn import model_selection\n",
    "#https://machinelearningmastery.com/evaluate-performance-deep-learning-models-keras/\n",
    "#https://datascience.stackexchange.com/questions/45165/how-to-get-accuracy-f1-precision-and-recall-for-a-keras-model\n",
    "# https://scikit-learn.org/stable/modules/generated/sklearn.metrics.classification_report.html\n",
    "\n",
    "#drive.mount('/content/drive')"
   ]
  },
  {
   "cell_type": "code",
   "execution_count": 35,
   "metadata": {
    "colab": {
     "base_uri": "https://localhost:8080/"
    },
    "id": "Vnuj9vrn7aKa",
    "outputId": "89e461db-2d78-484f-c596-db4873b0c5bc"
   },
   "outputs": [
    {
     "name": "stdout",
     "output_type": "stream",
     "text": [
      "Total data = 604800 detik\n",
      "Total hari dalam data = 7 hari\n"
     ]
    }
   ],
   "source": [
    "#DATA PREPARATION\n",
    "raw_datas = pd.read_csv(\"/Users/asus/notebook/TA/Dann Dataset/PIR dataset Time train.csv\")\n",
    "number_of_day = raw_datas.shape[0]/86400\n",
    "print(\"Total data = \" + str(raw_datas.shape[0]) + \" detik\")\n",
    "print(\"Total hari dalam data = \" + str(int(number_of_day)) + \" hari\")"
   ]
  },
  {
   "cell_type": "code",
   "execution_count": 13,
   "metadata": {
    "id": "OMBViWo57Wzv"
   },
   "outputs": [
    {
     "name": "stdout",
     "output_type": "stream",
     "text": [
      "0%\n",
      "1%\n",
      "2%\n",
      "3%\n",
      "4%\n",
      "5%\n",
      "6%\n",
      "7%\n",
      "8%\n",
      "9%\n",
      "10%\n",
      "11%\n",
      "12%\n",
      "13%\n",
      "14%\n",
      "15%\n",
      "16%\n",
      "17%\n",
      "18%\n",
      "19%\n",
      "20%\n",
      "21%\n",
      "22%\n",
      "23%\n",
      "24%\n",
      "25%\n",
      "26%\n",
      "27%\n",
      "28%\n",
      "29%\n",
      "30%\n",
      "31%\n",
      "32%\n",
      "33%\n",
      "34%\n",
      "35%\n",
      "36%\n",
      "37%\n",
      "38%\n",
      "39%\n",
      "40%\n",
      "41%\n",
      "42%\n",
      "43%\n",
      "44%\n",
      "45%\n",
      "46%\n",
      "47%\n",
      "48%\n",
      "49%\n",
      "50%\n",
      "51%\n",
      "52%\n",
      "53%\n",
      "54%\n",
      "55%\n",
      "56%\n",
      "57%\n",
      "58%\n",
      "59%\n",
      "60%\n",
      "61%\n",
      "62%\n",
      "63%\n",
      "64%\n",
      "65%\n",
      "66%\n",
      "67%\n",
      "68%\n",
      "69%\n",
      "70%\n",
      "71%\n",
      "72%\n",
      "73%\n",
      "74%\n",
      "75%\n",
      "76%\n",
      "77%\n",
      "78%\n",
      "79%\n",
      "80%\n",
      "81%\n",
      "82%\n",
      "83%\n",
      "84%\n",
      "85%\n",
      "86%\n",
      "87%\n",
      "88%\n",
      "89%\n",
      "90%\n",
      "91%\n",
      "92%\n",
      "93%\n",
      "94%\n",
      "95%\n",
      "96%\n",
      "97%\n",
      "98%\n",
      "99%\n",
      "100%\n"
     ]
    }
   ],
   "source": [
    "#EXTRACTING DATA\n",
    "\n",
    "datas = pd.read_csv(\"/Users/asus/notebook/TA/Dann Dataset/PIR dataset Duration train.csv\")\n",
    "file = open(\"/Users/asus/notebook/TA/Dann Dataset/PIR last 30 list dataset train.csv\",\"w\")\n",
    "for z in range(30):\n",
    "  file.write(\"Durasi\")\n",
    "  file.write(str(z+1))\n",
    "  for y in range(4):\n",
    "    file.write(\",Data\")\n",
    "    file.write(str(z+1))\n",
    "    file.write(\"|\")\n",
    "    file.write(\"Pir\")\n",
    "    file.write(str(y+1))\n",
    "  file.write(\",\")\n",
    "file.write(\"Gerakan\")\n",
    "file.write(\"\\n\")\n",
    "\n",
    "percent1 = round(datas.shape[0]/100)\n",
    "percentage = 0\n",
    "\n",
    "for i in range(datas.shape[0]):\n",
    "  if(i%percent1 == 0):\n",
    "    print(str(percentage)+\"%\")\n",
    "    percentage+=1\n",
    "  if(i < 29):\n",
    "    for u in range(29-i):\n",
    "      file.write(\"0,0,0,0,0,\")\n",
    "    for e in range(i+1):\n",
    "      for t in range(5):\n",
    "        file.write(str(datas.iloc[e][t]))\n",
    "        file.write(\",\") \n",
    "  else:\n",
    "    for a in range(30):\n",
    "      for o in range(5):\n",
    "        file.write(str(datas.iloc[i-(29-a)][o]))\n",
    "        file.write(\",\")\n",
    "  file.write(datas.iloc[i][5])\n",
    "  file.write(\"\\n\")\n",
    "\n",
    "print(\"100%\")\n",
    "file.close()"
   ]
  },
  {
   "cell_type": "code",
   "execution_count": 36,
   "metadata": {
    "id": "AWQsUdja77bD"
   },
   "outputs": [],
   "source": [
    "# LOAD DATASET\n",
    "feature_data =pd.read_csv(\"/Users/asus/notebook/TA/Dann Dataset/PIR last 30 list dataset train.csv\")\n",
    "\n",
    "# ADD LABEL ENCODER\n",
    "label_encoder = LabelEncoder()\n",
    "feature_data['Gerakan'] = label_encoder.fit_transform(feature_data['Gerakan'])\n",
    "datas_labels = label_encoder.classes_"
   ]
  },
  {
   "cell_type": "code",
   "execution_count": 37,
   "metadata": {
    "colab": {
     "base_uri": "https://localhost:8080/"
    },
    "id": "mDaHAU7eD4CR",
    "outputId": "b9993c37-f2a8-4e72-c5e9-6b7fb9e7da1f"
   },
   "outputs": [
    {
     "name": "stdout",
     "output_type": "stream",
     "text": [
      "['LOITERING' 'NORMAL']\n"
     ]
    }
   ],
   "source": [
    "# LIST OF LABELS\n",
    "print(datas_labels)"
   ]
  },
  {
   "cell_type": "code",
   "execution_count": 38,
   "metadata": {
    "colab": {
     "base_uri": "https://localhost:8080/"
    },
    "id": "AEc59ruoD6MC",
    "outputId": "77a13ddd-d18e-4b39-c24b-a50761b90654"
   },
   "outputs": [
    {
     "name": "stdout",
     "output_type": "stream",
     "text": [
      "Train: (140202, 30, 5) (140202, 1)\n",
      "Test: (60087, 30, 5) (60087, 1)\n"
     ]
    }
   ],
   "source": [
    "x = feature_data.drop('Gerakan',axis=1)\n",
    "y = feature_data['Gerakan']\n",
    "\n",
    "# RESHAPE DATASET\n",
    "x = x.values.reshape(-1,30,5)   #INPUT 4\n",
    "y = y.values.reshape((-1,1))\n",
    "\n",
    "# SPLIT DATASET\n",
    "x_train, x_test, y_train, y_test = train_test_split(x, y, test_size=0.3) #Split Dataset Train 70% dan Test 30%\n",
    "\n",
    "# CHECK THE SHAPE\n",
    "print(\"Train:\", x_train.shape , y_train.shape)\n",
    "print(\"Test:\",x_test.shape , y_test.shape)\n",
    "\n",
    "# SET TOTAL FOLD\n",
    "total_fold = 5"
   ]
  },
  {
   "cell_type": "code",
   "execution_count": 21,
   "metadata": {
    "colab": {
     "base_uri": "https://localhost:8080/"
    },
    "id": "-a4z8GH7_qgA",
    "outputId": "8fde48bb-31a8-4617-cb4c-be55f3e2ffe4"
   },
   "outputs": [
    {
     "name": "stdout",
     "output_type": "stream",
     "text": [
      "Epoch 1/10\n",
      "1122/1122 - 32s - loss: 0.6744 - accuracy: 0.5713 - 32s/epoch - 28ms/step\n",
      "Epoch 2/10\n",
      "1122/1122 - 33s - loss: 0.6010 - accuracy: 0.6622 - 33s/epoch - 29ms/step\n",
      "Epoch 3/10\n",
      "1122/1122 - 33s - loss: 0.5612 - accuracy: 0.6961 - 33s/epoch - 29ms/step\n",
      "Epoch 4/10\n",
      "1122/1122 - 33s - loss: 0.5408 - accuracy: 0.7083 - 33s/epoch - 29ms/step\n",
      "Epoch 5/10\n",
      "1122/1122 - 33s - loss: 0.5265 - accuracy: 0.7151 - 33s/epoch - 30ms/step\n",
      "Epoch 6/10\n",
      "1122/1122 - 33s - loss: 0.5094 - accuracy: 0.7268 - 33s/epoch - 30ms/step\n",
      "Epoch 7/10\n",
      "1122/1122 - 34s - loss: 0.4785 - accuracy: 0.7534 - 34s/epoch - 30ms/step\n",
      "Epoch 8/10\n",
      "1122/1122 - 33s - loss: 0.4069 - accuracy: 0.8140 - 33s/epoch - 29ms/step\n",
      "Epoch 9/10\n",
      "1122/1122 - 33s - loss: 0.3330 - accuracy: 0.8627 - 33s/epoch - 29ms/step\n",
      "Epoch 10/10\n",
      "1122/1122 - 35s - loss: 0.2740 - accuracy: 0.8940 - 35s/epoch - 31ms/step\n",
      "accuracy: 81.52%\n",
      "INFO:tensorflow:Assets written to: ram://09ab0c80-b43a-4bf5-8497-3768726b1dd0/assets\n",
      "Epoch 1/10\n"
     ]
    },
    {
     "name": "stderr",
     "output_type": "stream",
     "text": [
      "C:\\Users\\asus\\anaconda3\\lib\\site-packages\\keras\\optimizers\\optimizer_v2\\gradient_descent.py:108: UserWarning: The `lr` argument is deprecated, use `learning_rate` instead.\n",
      "  super(SGD, self).__init__(name, **kwargs)\n"
     ]
    },
    {
     "name": "stdout",
     "output_type": "stream",
     "text": [
      "1122/1122 - 37s - loss: 0.6736 - accuracy: 0.5752 - 37s/epoch - 33ms/step\n",
      "Epoch 2/10\n",
      "1122/1122 - 33s - loss: 0.5973 - accuracy: 0.6670 - 33s/epoch - 29ms/step\n",
      "Epoch 3/10\n",
      "1122/1122 - 33s - loss: 0.5457 - accuracy: 0.7128 - 33s/epoch - 30ms/step\n",
      "Epoch 4/10\n",
      "1122/1122 - 33s - loss: 0.5072 - accuracy: 0.7429 - 33s/epoch - 30ms/step\n",
      "Epoch 5/10\n",
      "1122/1122 - 32s - loss: 0.4576 - accuracy: 0.7830 - 32s/epoch - 29ms/step\n",
      "Epoch 6/10\n",
      "1122/1122 - 32s - loss: 0.3640 - accuracy: 0.8500 - 32s/epoch - 29ms/step\n",
      "Epoch 7/10\n",
      "1122/1122 - 33s - loss: 0.2957 - accuracy: 0.8851 - 33s/epoch - 29ms/step\n",
      "Epoch 8/10\n",
      "1122/1122 - 32s - loss: 0.2408 - accuracy: 0.9118 - 32s/epoch - 29ms/step\n",
      "Epoch 9/10\n",
      "1122/1122 - 34s - loss: 0.2075 - accuracy: 0.9249 - 34s/epoch - 30ms/step\n",
      "Epoch 10/10\n",
      "1122/1122 - 36s - loss: 0.1845 - accuracy: 0.9337 - 36s/epoch - 32ms/step\n",
      "accuracy: 93.98%\n",
      "INFO:tensorflow:Assets written to: ram://3b4116f5-ec15-4963-bb2e-e5fc49f3654d/assets\n",
      "Epoch 1/10\n"
     ]
    },
    {
     "name": "stderr",
     "output_type": "stream",
     "text": [
      "C:\\Users\\asus\\anaconda3\\lib\\site-packages\\keras\\optimizers\\optimizer_v2\\gradient_descent.py:108: UserWarning: The `lr` argument is deprecated, use `learning_rate` instead.\n",
      "  super(SGD, self).__init__(name, **kwargs)\n"
     ]
    },
    {
     "name": "stdout",
     "output_type": "stream",
     "text": [
      "1122/1122 - 38s - loss: 0.6951 - accuracy: 0.5505 - 38s/epoch - 34ms/step\n",
      "Epoch 2/10\n",
      "1122/1122 - 40s - loss: 0.5631 - accuracy: 0.7167 - 40s/epoch - 36ms/step\n",
      "Epoch 3/10\n",
      "1122/1122 - 33s - loss: 0.4263 - accuracy: 0.8196 - 33s/epoch - 29ms/step\n",
      "Epoch 4/10\n",
      "1122/1122 - 34s - loss: 0.3404 - accuracy: 0.8639 - 34s/epoch - 31ms/step\n",
      "Epoch 5/10\n",
      "1122/1122 - 32s - loss: 0.2738 - accuracy: 0.8963 - 32s/epoch - 29ms/step\n",
      "Epoch 6/10\n",
      "1122/1122 - 33s - loss: 0.2308 - accuracy: 0.9159 - 33s/epoch - 29ms/step\n",
      "Epoch 7/10\n",
      "1122/1122 - 32s - loss: 0.1975 - accuracy: 0.9278 - 32s/epoch - 29ms/step\n",
      "Epoch 8/10\n",
      "1122/1122 - 33s - loss: 0.1823 - accuracy: 0.9331 - 33s/epoch - 29ms/step\n",
      "Epoch 9/10\n",
      "1122/1122 - 32s - loss: 0.1654 - accuracy: 0.9390 - 32s/epoch - 29ms/step\n",
      "Epoch 10/10\n",
      "1122/1122 - 32s - loss: 0.1559 - accuracy: 0.9422 - 32s/epoch - 29ms/step\n",
      "accuracy: 94.13%\n",
      "INFO:tensorflow:Assets written to: ram://8d8c4694-cf7c-4d66-b995-f869968de8cd/assets\n",
      "Epoch 1/10\n"
     ]
    },
    {
     "name": "stderr",
     "output_type": "stream",
     "text": [
      "C:\\Users\\asus\\anaconda3\\lib\\site-packages\\keras\\optimizers\\optimizer_v2\\gradient_descent.py:108: UserWarning: The `lr` argument is deprecated, use `learning_rate` instead.\n",
      "  super(SGD, self).__init__(name, **kwargs)\n"
     ]
    },
    {
     "name": "stdout",
     "output_type": "stream",
     "text": [
      "1122/1122 - 33s - loss: 0.6800 - accuracy: 0.5677 - 33s/epoch - 29ms/step\n",
      "Epoch 2/10\n",
      "1122/1122 - 32s - loss: 0.5897 - accuracy: 0.6702 - 32s/epoch - 28ms/step\n",
      "Epoch 3/10\n",
      "1122/1122 - 32s - loss: 0.5207 - accuracy: 0.7349 - 32s/epoch - 28ms/step\n",
      "Epoch 4/10\n",
      "1122/1122 - 32s - loss: 0.4028 - accuracy: 0.8327 - 32s/epoch - 28ms/step\n",
      "Epoch 5/10\n",
      "1122/1122 - 32s - loss: 0.3159 - accuracy: 0.8768 - 32s/epoch - 28ms/step\n",
      "Epoch 6/10\n",
      "1122/1122 - 32s - loss: 0.2552 - accuracy: 0.9055 - 32s/epoch - 28ms/step\n",
      "Epoch 7/10\n",
      "1122/1122 - 32s - loss: 0.2218 - accuracy: 0.9184 - 32s/epoch - 28ms/step\n",
      "Epoch 8/10\n",
      "1122/1122 - 32s - loss: 0.2008 - accuracy: 0.9267 - 32s/epoch - 28ms/step\n",
      "Epoch 9/10\n",
      "1122/1122 - 32s - loss: 0.1779 - accuracy: 0.9358 - 32s/epoch - 28ms/step\n",
      "Epoch 10/10\n",
      "1122/1122 - 32s - loss: 0.1655 - accuracy: 0.9400 - 32s/epoch - 28ms/step\n",
      "accuracy: 94.47%\n",
      "INFO:tensorflow:Assets written to: ram://affe29a6-34c9-45f4-9431-80d111620818/assets\n",
      "Epoch 1/10\n"
     ]
    },
    {
     "name": "stderr",
     "output_type": "stream",
     "text": [
      "C:\\Users\\asus\\anaconda3\\lib\\site-packages\\keras\\optimizers\\optimizer_v2\\gradient_descent.py:108: UserWarning: The `lr` argument is deprecated, use `learning_rate` instead.\n",
      "  super(SGD, self).__init__(name, **kwargs)\n"
     ]
    },
    {
     "name": "stdout",
     "output_type": "stream",
     "text": [
      "1122/1122 - 33s - loss: 0.7134 - accuracy: 0.5340 - 33s/epoch - 29ms/step\n",
      "Epoch 2/10\n",
      "1122/1122 - 31s - loss: 0.6349 - accuracy: 0.6362 - 31s/epoch - 28ms/step\n",
      "Epoch 3/10\n",
      "1122/1122 - 31s - loss: 0.5546 - accuracy: 0.7186 - 31s/epoch - 28ms/step\n",
      "Epoch 4/10\n",
      "1122/1122 - 31s - loss: 0.4369 - accuracy: 0.8173 - 31s/epoch - 28ms/step\n",
      "Epoch 5/10\n",
      "1122/1122 - 32s - loss: 0.2868 - accuracy: 0.8963 - 32s/epoch - 28ms/step\n",
      "Epoch 6/10\n",
      "1122/1122 - 31s - loss: 0.2273 - accuracy: 0.9154 - 31s/epoch - 28ms/step\n",
      "Epoch 7/10\n",
      "1122/1122 - 31s - loss: 0.1976 - accuracy: 0.9276 - 31s/epoch - 28ms/step\n",
      "Epoch 8/10\n",
      "1122/1122 - 31s - loss: 0.1774 - accuracy: 0.9357 - 31s/epoch - 28ms/step\n",
      "Epoch 9/10\n",
      "1122/1122 - 31s - loss: 0.1640 - accuracy: 0.9399 - 31s/epoch - 28ms/step\n",
      "Epoch 10/10\n",
      "1122/1122 - 32s - loss: 0.1492 - accuracy: 0.9455 - 32s/epoch - 28ms/step\n",
      "accuracy: 94.96%\n",
      "INFO:tensorflow:Assets written to: ram://c61f3f0a-e970-4914-9e8e-3779df9ed26f/assets\n",
      "Model Accuracy List:  [81.51991963386536, 93.98381114006042, 94.12981271743774, 94.46504712104797, 94.95720267295837]\n",
      "91.81% (+/- 5.16%)\n",
      "INFO:tensorflow:Assets written to: ram://5e1fc9fd-f79a-4fd4-9370-ffa18b79bf62/assets\n"
     ]
    }
   ],
   "source": [
    "#RNN BEFORE TUNING\n",
    "\n",
    "fold_number = 0\n",
    "\n",
    "kf = KFold(n_splits = total_fold, shuffle=True)                                            \n",
    "cvscores = []\n",
    "\n",
    "for train_index, test_index in kf.split(x_train):                                     \n",
    "    x_train_fold, x_test_fold = x_train[train_index], x_train[test_index]                             \n",
    "    y_train_fold, y_test_fold = y_train[train_index], y_train[test_index]  \n",
    "    model = keras.Sequential(                                                   \n",
    "        [\n",
    "            keras.Input(shape=(None,5)),\n",
    "            layers.SimpleRNN(100, return_sequences=True, activation='tanh'),\n",
    "            layers.SimpleRNN(100, activation='tanh'),\n",
    "            layers.Dense(2)\n",
    "        ]\n",
    "    )\n",
    "\n",
    "    model.compile(\n",
    "        loss = keras.losses.SparseCategoricalCrossentropy(from_logits=True),\n",
    "        optimizer = keras.optimizers.SGD(lr=3e-4), #metode optimizer default\n",
    "        metrics = [\"accuracy\"]\n",
    "    )\n",
    "    model.fit(x_train_fold, y_train_fold, batch_size=100, epochs=10, verbose=2)\n",
    "    scores = model.evaluate(x_train[test_index], y_train[test_index], verbose=0)\n",
    "    print(\"%s: %.2f%%\" % (model.metrics_names[1], scores[1]*100))\n",
    "    cvscores.append(scores[1] * 100)\n",
    "    fold_number+=1\n",
    "    fold_name = \"/Users/asus/notebook/TA/Dann Dataset/RNN Model/rnn_model_before_tuning_fold_\" + str(fold_number) + \".sav\"\n",
    "    pickle.dump(model, open(fold_name, 'wb'))\n",
    "\n",
    "print(\"Model Accuracy List: \" , cvscores)\n",
    "print(\"%.2f%% (+/- %.2f%%)\" % (np.mean(cvscores), np.std(cvscores)))\n",
    "\n",
    "filename = \"/Users/asus/notebook/TA/Dann Dataset/RNN Model/rnn_model_before_tuning.sav\"\n",
    "pickle.dump(model, open(filename, 'wb'))\n"
   ]
  },
  {
   "cell_type": "code",
   "execution_count": 23,
   "metadata": {
    "colab": {
     "base_uri": "https://localhost:8080/"
    },
    "id": "rK7jRvXLFQMh",
    "outputId": "c6a4ee68-2d97-4cfb-9b7b-6b8e0d4428d4"
   },
   "outputs": [
    {
     "name": "stdout",
     "output_type": "stream",
     "text": [
      "Epoch 1/10\n"
     ]
    },
    {
     "name": "stderr",
     "output_type": "stream",
     "text": [
      "C:\\Users\\asus\\anaconda3\\lib\\site-packages\\keras\\optimizers\\optimizer_v2\\adam.py:110: UserWarning: The `lr` argument is deprecated, use `learning_rate` instead.\n",
      "  super(Adam, self).__init__(name, **kwargs)\n"
     ]
    },
    {
     "name": "stdout",
     "output_type": "stream",
     "text": [
      "1122/1122 - 28s - loss: 0.2888 - accuracy: 0.8637 - 28s/epoch - 25ms/step\n",
      "Epoch 2/10\n",
      "1122/1122 - 32s - loss: 0.0664 - accuracy: 0.9747 - 32s/epoch - 28ms/step\n",
      "Epoch 3/10\n",
      "1122/1122 - 32s - loss: 0.0367 - accuracy: 0.9860 - 32s/epoch - 29ms/step\n",
      "Epoch 4/10\n",
      "1122/1122 - 32s - loss: 0.0315 - accuracy: 0.9871 - 32s/epoch - 28ms/step\n",
      "Epoch 5/10\n",
      "1122/1122 - 32s - loss: 0.0259 - accuracy: 0.9892 - 32s/epoch - 28ms/step\n",
      "Epoch 6/10\n",
      "1122/1122 - 32s - loss: 0.0278 - accuracy: 0.9890 - 32s/epoch - 29ms/step\n",
      "Epoch 7/10\n",
      "1122/1122 - 32s - loss: 0.0213 - accuracy: 0.9910 - 32s/epoch - 28ms/step\n",
      "Epoch 8/10\n",
      "1122/1122 - 32s - loss: 0.0218 - accuracy: 0.9911 - 32s/epoch - 28ms/step\n",
      "Epoch 9/10\n",
      "1122/1122 - 32s - loss: 0.0179 - accuracy: 0.9925 - 32s/epoch - 28ms/step\n",
      "Epoch 10/10\n",
      "1122/1122 - 32s - loss: 0.0200 - accuracy: 0.9916 - 32s/epoch - 28ms/step\n",
      "accuracy: 99.56%\n",
      "INFO:tensorflow:Assets written to: ram://a0451170-f152-4ad3-93a8-d9e8eabe7633/assets\n",
      "Epoch 1/10\n"
     ]
    },
    {
     "name": "stderr",
     "output_type": "stream",
     "text": [
      "C:\\Users\\asus\\anaconda3\\lib\\site-packages\\keras\\optimizers\\optimizer_v2\\adam.py:110: UserWarning: The `lr` argument is deprecated, use `learning_rate` instead.\n",
      "  super(Adam, self).__init__(name, **kwargs)\n"
     ]
    },
    {
     "name": "stdout",
     "output_type": "stream",
     "text": [
      "1122/1122 - 34s - loss: 0.1723 - accuracy: 0.9218 - 34s/epoch - 30ms/step\n",
      "Epoch 2/10\n",
      "1122/1122 - 32s - loss: 0.0506 - accuracy: 0.9810 - 32s/epoch - 29ms/step\n",
      "Epoch 3/10\n",
      "1122/1122 - 33s - loss: 0.0352 - accuracy: 0.9862 - 33s/epoch - 29ms/step\n",
      "Epoch 4/10\n",
      "1122/1122 - 33s - loss: 0.0293 - accuracy: 0.9882 - 33s/epoch - 29ms/step\n",
      "Epoch 5/10\n",
      "1122/1122 - 33s - loss: 0.0268 - accuracy: 0.9891 - 33s/epoch - 30ms/step\n",
      "Epoch 6/10\n",
      "1122/1122 - 33s - loss: 0.0243 - accuracy: 0.9901 - 33s/epoch - 30ms/step\n",
      "Epoch 7/10\n",
      "1122/1122 - 33s - loss: 0.0221 - accuracy: 0.9906 - 33s/epoch - 29ms/step\n",
      "Epoch 8/10\n",
      "1122/1122 - 32s - loss: 0.0243 - accuracy: 0.9912 - 32s/epoch - 29ms/step\n",
      "Epoch 9/10\n",
      "1122/1122 - 32s - loss: 0.0168 - accuracy: 0.9930 - 32s/epoch - 29ms/step\n",
      "Epoch 10/10\n",
      "1122/1122 - 32s - loss: 0.0175 - accuracy: 0.9933 - 32s/epoch - 29ms/step\n",
      "accuracy: 98.37%\n",
      "INFO:tensorflow:Assets written to: ram://9157b692-8d81-4869-a30f-8b310dbdc945/assets\n",
      "Epoch 1/10\n"
     ]
    },
    {
     "name": "stderr",
     "output_type": "stream",
     "text": [
      "C:\\Users\\asus\\anaconda3\\lib\\site-packages\\keras\\optimizers\\optimizer_v2\\adam.py:110: UserWarning: The `lr` argument is deprecated, use `learning_rate` instead.\n",
      "  super(Adam, self).__init__(name, **kwargs)\n"
     ]
    },
    {
     "name": "stdout",
     "output_type": "stream",
     "text": [
      "1122/1122 - 34s - loss: 0.2086 - accuracy: 0.9040 - 34s/epoch - 30ms/step\n",
      "Epoch 2/10\n",
      "1122/1122 - 32s - loss: 0.0553 - accuracy: 0.9799 - 32s/epoch - 29ms/step\n",
      "Epoch 3/10\n",
      "1122/1122 - 32s - loss: 0.0408 - accuracy: 0.9848 - 32s/epoch - 29ms/step\n",
      "Epoch 4/10\n",
      "1122/1122 - 32s - loss: 0.0324 - accuracy: 0.9870 - 32s/epoch - 29ms/step\n",
      "Epoch 5/10\n",
      "1122/1122 - 33s - loss: 0.0256 - accuracy: 0.9896 - 33s/epoch - 30ms/step\n",
      "Epoch 6/10\n",
      "1122/1122 - 32s - loss: 0.0249 - accuracy: 0.9901 - 32s/epoch - 29ms/step\n",
      "Epoch 7/10\n",
      "1122/1122 - 32s - loss: 0.0218 - accuracy: 0.9913 - 32s/epoch - 29ms/step\n",
      "Epoch 8/10\n",
      "1122/1122 - 32s - loss: 0.0222 - accuracy: 0.9910 - 32s/epoch - 29ms/step\n",
      "Epoch 9/10\n",
      "1122/1122 - 32s - loss: 0.0185 - accuracy: 0.9924 - 32s/epoch - 28ms/step\n",
      "Epoch 10/10\n",
      "1122/1122 - 32s - loss: 0.0209 - accuracy: 0.9915 - 32s/epoch - 29ms/step\n",
      "accuracy: 99.23%\n",
      "INFO:tensorflow:Assets written to: ram://20edccc0-7b0b-4cfb-bbc0-77925e3e9d47/assets\n",
      "Epoch 1/10\n"
     ]
    },
    {
     "name": "stderr",
     "output_type": "stream",
     "text": [
      "C:\\Users\\asus\\anaconda3\\lib\\site-packages\\keras\\optimizers\\optimizer_v2\\adam.py:110: UserWarning: The `lr` argument is deprecated, use `learning_rate` instead.\n",
      "  super(Adam, self).__init__(name, **kwargs)\n"
     ]
    },
    {
     "name": "stdout",
     "output_type": "stream",
     "text": [
      "1122/1122 - 35s - loss: 0.1722 - accuracy: 0.9212 - 35s/epoch - 31ms/step\n",
      "Epoch 2/10\n",
      "1122/1122 - 33s - loss: 0.0486 - accuracy: 0.9813 - 33s/epoch - 29ms/step\n",
      "Epoch 3/10\n",
      "1122/1122 - 33s - loss: 0.0353 - accuracy: 0.9863 - 33s/epoch - 29ms/step\n",
      "Epoch 4/10\n",
      "1122/1122 - 33s - loss: 0.0280 - accuracy: 0.9887 - 33s/epoch - 29ms/step\n",
      "Epoch 5/10\n",
      "1122/1122 - 34s - loss: 0.0232 - accuracy: 0.9905 - 34s/epoch - 30ms/step\n",
      "Epoch 6/10\n",
      "1122/1122 - 33s - loss: 0.0246 - accuracy: 0.9898 - 33s/epoch - 29ms/step\n",
      "Epoch 7/10\n",
      "1122/1122 - 33s - loss: 0.0274 - accuracy: 0.9899 - 33s/epoch - 30ms/step\n",
      "Epoch 8/10\n",
      "1122/1122 - 33s - loss: 0.0297 - accuracy: 0.9882 - 33s/epoch - 29ms/step\n",
      "Epoch 9/10\n",
      "1122/1122 - 33s - loss: 0.0195 - accuracy: 0.9920 - 33s/epoch - 30ms/step\n",
      "Epoch 10/10\n",
      "1122/1122 - 33s - loss: 0.0198 - accuracy: 0.9921 - 33s/epoch - 29ms/step\n",
      "accuracy: 99.26%\n",
      "INFO:tensorflow:Assets written to: ram://62376a7a-84aa-453b-b2e5-aebc9a24d7a5/assets\n",
      "Epoch 1/10\n"
     ]
    },
    {
     "name": "stderr",
     "output_type": "stream",
     "text": [
      "C:\\Users\\asus\\anaconda3\\lib\\site-packages\\keras\\optimizers\\optimizer_v2\\adam.py:110: UserWarning: The `lr` argument is deprecated, use `learning_rate` instead.\n",
      "  super(Adam, self).__init__(name, **kwargs)\n"
     ]
    },
    {
     "name": "stdout",
     "output_type": "stream",
     "text": [
      "1122/1122 - 33s - loss: 0.1827 - accuracy: 0.9196 - 33s/epoch - 30ms/step\n",
      "Epoch 2/10\n",
      "1122/1122 - 32s - loss: 0.0620 - accuracy: 0.9772 - 32s/epoch - 28ms/step\n",
      "Epoch 3/10\n",
      "1122/1122 - 32s - loss: 0.0389 - accuracy: 0.9853 - 32s/epoch - 28ms/step\n",
      "Epoch 4/10\n",
      "1122/1122 - 32s - loss: 0.0337 - accuracy: 0.9868 - 32s/epoch - 28ms/step\n",
      "Epoch 5/10\n",
      "1122/1122 - 32s - loss: 0.0272 - accuracy: 0.9892 - 32s/epoch - 28ms/step\n",
      "Epoch 6/10\n",
      "1122/1122 - 32s - loss: 0.0286 - accuracy: 0.9890 - 32s/epoch - 28ms/step\n",
      "Epoch 7/10\n",
      "1122/1122 - 32s - loss: 0.0245 - accuracy: 0.9902 - 32s/epoch - 28ms/step\n",
      "Epoch 8/10\n",
      "1122/1122 - 32s - loss: 0.0228 - accuracy: 0.9908 - 32s/epoch - 28ms/step\n",
      "Epoch 9/10\n",
      "1122/1122 - 32s - loss: 0.0228 - accuracy: 0.9908 - 32s/epoch - 28ms/step\n",
      "Epoch 10/10\n",
      "1122/1122 - 32s - loss: 0.0224 - accuracy: 0.9915 - 32s/epoch - 28ms/step\n",
      "accuracy: 98.91%\n",
      "INFO:tensorflow:Assets written to: ram://fde26bea-6c86-4b14-82b0-3c37f3f88f57/assets\n",
      "Model Accuracy List:  [99.56135749816895, 98.3738124370575, 99.22966957092285, 99.2617666721344, 98.91226887702942]\n",
      "99.07% (+/- 0.40%)\n",
      "INFO:tensorflow:Assets written to: ram://138184b4-c1b1-43c3-9b01-88f601103049/assets\n"
     ]
    }
   ],
   "source": [
    "#RNN AFTER TUNING\n",
    "\n",
    "fold_number = 0\n",
    "\n",
    "kf = KFold(n_splits = total_fold, shuffle=True)                                            \n",
    "cvscores = []\n",
    "\n",
    "for train_index, test_index in kf.split(x_train):                                     \n",
    "    x_train_fold, x_test_fold = x_train[train_index], x_train[test_index]                             \n",
    "    y_train_fold, y_test_fold = y_train[train_index], y_train[test_index]  \n",
    "    model = keras.Sequential(                                                   \n",
    "        [\n",
    "            keras.Input(shape=(None,5)),\n",
    "            layers.SimpleRNN(100, return_sequences=True, activation='tanh'),\n",
    "            layers.SimpleRNN(100, activation='tanh'),\n",
    "            layers.Dense(2)\n",
    "        ]\n",
    "    )\n",
    "\n",
    "    model.compile(\n",
    "        loss = keras.losses.SparseCategoricalCrossentropy(from_logits=True),\n",
    "        optimizer = keras.optimizers.Adam(lr=3e-4),\n",
    "        metrics = [\"accuracy\"]\n",
    "    )\n",
    "    model.fit(x_train_fold, y_train_fold, batch_size=100, epochs=10, verbose=2)\n",
    "    scores = model.evaluate(x_train[test_index], y_train[test_index], verbose=0)\n",
    "    print(\"%s: %.2f%%\" % (model.metrics_names[1], scores[1]*100))\n",
    "    cvscores.append(scores[1] * 100)\n",
    "    fold_number+=1\n",
    "    fold_name = \"/Users/asus/notebook/TA/Dann Dataset/RNN Model/rnn_model_after_tuning_fold_\" + str(fold_number) + \".sav\"\n",
    "    pickle.dump(model, open(fold_name, 'wb'))\n",
    "\n",
    "print(\"Model Accuracy List: \" , cvscores)\n",
    "print(\"%.2f%% (+/- %.2f%%)\" % (np.mean(cvscores), np.std(cvscores)))\n",
    "\n",
    "\n",
    "filename = \"/Users/asus/notebook/TA/Dann Dataset/RNN Model/rnn_model_after_tuning.sav\"\n",
    "pickle.dump(model, open(filename, 'wb'))\n"
   ]
  },
  {
   "cell_type": "code",
   "execution_count": 24,
   "metadata": {
    "colab": {
     "base_uri": "https://localhost:8080/"
    },
    "id": "T9kIya-tb_Wi",
    "outputId": "bd064f0b-6d92-4195-a514-690785d35af4"
   },
   "outputs": [
    {
     "name": "stdout",
     "output_type": "stream",
     "text": [
      "Epoch 1/10\n"
     ]
    },
    {
     "name": "stderr",
     "output_type": "stream",
     "text": [
      "C:\\Users\\asus\\anaconda3\\lib\\site-packages\\keras\\optimizers\\optimizer_v2\\gradient_descent.py:108: UserWarning: The `lr` argument is deprecated, use `learning_rate` instead.\n",
      "  super(SGD, self).__init__(name, **kwargs)\n"
     ]
    },
    {
     "name": "stdout",
     "output_type": "stream",
     "text": [
      "1122/1122 - 80s - loss: 0.6672 - accuracy: 0.5859 - 80s/epoch - 72ms/step\n",
      "Epoch 2/10\n",
      "1122/1122 - 80s - loss: 0.6581 - accuracy: 0.6080 - 80s/epoch - 71ms/step\n",
      "Epoch 3/10\n",
      "1122/1122 - 80s - loss: 0.6524 - accuracy: 0.6195 - 80s/epoch - 72ms/step\n",
      "Epoch 4/10\n",
      "1122/1122 - 80s - loss: 0.6473 - accuracy: 0.6284 - 80s/epoch - 71ms/step\n",
      "Epoch 5/10\n",
      "1122/1122 - 80s - loss: 0.6425 - accuracy: 0.6331 - 80s/epoch - 71ms/step\n",
      "Epoch 6/10\n",
      "1122/1122 - 82s - loss: 0.6380 - accuracy: 0.6376 - 82s/epoch - 73ms/step\n",
      "Epoch 7/10\n",
      "1122/1122 - 80s - loss: 0.6336 - accuracy: 0.6410 - 80s/epoch - 72ms/step\n",
      "Epoch 8/10\n",
      "1122/1122 - 80s - loss: 0.6294 - accuracy: 0.6432 - 80s/epoch - 72ms/step\n",
      "Epoch 9/10\n",
      "1122/1122 - 80s - loss: 0.6251 - accuracy: 0.6468 - 80s/epoch - 71ms/step\n",
      "Epoch 10/10\n",
      "1122/1122 - 80s - loss: 0.6209 - accuracy: 0.6512 - 80s/epoch - 71ms/step\n",
      "accuracy: 65.86%\n"
     ]
    },
    {
     "name": "stderr",
     "output_type": "stream",
     "text": [
      "WARNING:absl:Found untraced functions such as gru_cell_layer_call_fn, gru_cell_layer_call_and_return_conditional_losses, gru_cell_1_layer_call_fn, gru_cell_1_layer_call_and_return_conditional_losses while saving (showing 4 of 4). These functions will not be directly callable after loading.\n"
     ]
    },
    {
     "name": "stdout",
     "output_type": "stream",
     "text": [
      "INFO:tensorflow:Assets written to: ram://4dd9e1eb-3959-4160-8ba3-e667121a86de/assets\n"
     ]
    },
    {
     "name": "stderr",
     "output_type": "stream",
     "text": [
      "INFO:tensorflow:Assets written to: ram://4dd9e1eb-3959-4160-8ba3-e667121a86de/assets\n"
     ]
    },
    {
     "name": "stdout",
     "output_type": "stream",
     "text": [
      "Epoch 1/10\n"
     ]
    },
    {
     "name": "stderr",
     "output_type": "stream",
     "text": [
      "C:\\Users\\asus\\anaconda3\\lib\\site-packages\\keras\\optimizers\\optimizer_v2\\gradient_descent.py:108: UserWarning: The `lr` argument is deprecated, use `learning_rate` instead.\n",
      "  super(SGD, self).__init__(name, **kwargs)\n"
     ]
    },
    {
     "name": "stdout",
     "output_type": "stream",
     "text": [
      "1122/1122 - 85s - loss: 0.6834 - accuracy: 0.5740 - 85s/epoch - 75ms/step\n",
      "Epoch 2/10\n",
      "1122/1122 - 80s - loss: 0.6715 - accuracy: 0.5890 - 80s/epoch - 71ms/step\n",
      "Epoch 3/10\n",
      "1122/1122 - 80s - loss: 0.6644 - accuracy: 0.6068 - 80s/epoch - 72ms/step\n",
      "Epoch 4/10\n",
      "1122/1122 - 80s - loss: 0.6587 - accuracy: 0.6217 - 80s/epoch - 71ms/step\n",
      "Epoch 5/10\n",
      "1122/1122 - 80s - loss: 0.6538 - accuracy: 0.6284 - 80s/epoch - 71ms/step\n",
      "Epoch 6/10\n",
      "1122/1122 - 80s - loss: 0.6494 - accuracy: 0.6320 - 80s/epoch - 71ms/step\n",
      "Epoch 7/10\n",
      "1122/1122 - 80s - loss: 0.6453 - accuracy: 0.6339 - 80s/epoch - 71ms/step\n",
      "Epoch 8/10\n",
      "1122/1122 - 80s - loss: 0.6414 - accuracy: 0.6360 - 80s/epoch - 71ms/step\n",
      "Epoch 9/10\n",
      "1122/1122 - 80s - loss: 0.6374 - accuracy: 0.6378 - 80s/epoch - 71ms/step\n",
      "Epoch 10/10\n",
      "1122/1122 - 80s - loss: 0.6335 - accuracy: 0.6405 - 80s/epoch - 71ms/step\n",
      "accuracy: 64.08%\n"
     ]
    },
    {
     "name": "stderr",
     "output_type": "stream",
     "text": [
      "WARNING:absl:Found untraced functions such as gru_cell_2_layer_call_fn, gru_cell_2_layer_call_and_return_conditional_losses, gru_cell_3_layer_call_fn, gru_cell_3_layer_call_and_return_conditional_losses while saving (showing 4 of 4). These functions will not be directly callable after loading.\n"
     ]
    },
    {
     "name": "stdout",
     "output_type": "stream",
     "text": [
      "INFO:tensorflow:Assets written to: ram://8e5268a4-83d9-482d-986a-9ac0fbc566f9/assets\n"
     ]
    },
    {
     "name": "stderr",
     "output_type": "stream",
     "text": [
      "INFO:tensorflow:Assets written to: ram://8e5268a4-83d9-482d-986a-9ac0fbc566f9/assets\n"
     ]
    },
    {
     "name": "stdout",
     "output_type": "stream",
     "text": [
      "Epoch 1/10\n"
     ]
    },
    {
     "name": "stderr",
     "output_type": "stream",
     "text": [
      "C:\\Users\\asus\\anaconda3\\lib\\site-packages\\keras\\optimizers\\optimizer_v2\\gradient_descent.py:108: UserWarning: The `lr` argument is deprecated, use `learning_rate` instead.\n",
      "  super(SGD, self).__init__(name, **kwargs)\n"
     ]
    },
    {
     "name": "stdout",
     "output_type": "stream",
     "text": [
      "1122/1122 - 84s - loss: 0.6873 - accuracy: 0.5112 - 84s/epoch - 75ms/step\n",
      "Epoch 2/10\n",
      "1122/1122 - 80s - loss: 0.6784 - accuracy: 0.5280 - 80s/epoch - 71ms/step\n",
      "Epoch 3/10\n",
      "1122/1122 - 81s - loss: 0.6712 - accuracy: 0.5643 - 81s/epoch - 72ms/step\n",
      "Epoch 4/10\n",
      "1122/1122 - 87s - loss: 0.6663 - accuracy: 0.5862 - 87s/epoch - 78ms/step\n",
      "Epoch 5/10\n",
      "1122/1122 - 84s - loss: 0.6621 - accuracy: 0.5990 - 84s/epoch - 75ms/step\n",
      "Epoch 6/10\n",
      "1122/1122 - 80s - loss: 0.6582 - accuracy: 0.6045 - 80s/epoch - 71ms/step\n",
      "Epoch 7/10\n",
      "1122/1122 - 80s - loss: 0.6545 - accuracy: 0.6102 - 80s/epoch - 71ms/step\n",
      "Epoch 8/10\n",
      "1122/1122 - 80s - loss: 0.6511 - accuracy: 0.6132 - 80s/epoch - 71ms/step\n",
      "Epoch 9/10\n",
      "1122/1122 - 80s - loss: 0.6477 - accuracy: 0.6170 - 80s/epoch - 71ms/step\n",
      "Epoch 10/10\n",
      "1122/1122 - 79s - loss: 0.6445 - accuracy: 0.6202 - 79s/epoch - 71ms/step\n",
      "accuracy: 62.08%\n"
     ]
    },
    {
     "name": "stderr",
     "output_type": "stream",
     "text": [
      "WARNING:absl:Found untraced functions such as gru_cell_4_layer_call_fn, gru_cell_4_layer_call_and_return_conditional_losses, gru_cell_5_layer_call_fn, gru_cell_5_layer_call_and_return_conditional_losses while saving (showing 4 of 4). These functions will not be directly callable after loading.\n"
     ]
    },
    {
     "name": "stdout",
     "output_type": "stream",
     "text": [
      "INFO:tensorflow:Assets written to: ram://1cc2718c-6fee-4634-92db-d18ed3a37975/assets\n"
     ]
    },
    {
     "name": "stderr",
     "output_type": "stream",
     "text": [
      "INFO:tensorflow:Assets written to: ram://1cc2718c-6fee-4634-92db-d18ed3a37975/assets\n"
     ]
    },
    {
     "name": "stdout",
     "output_type": "stream",
     "text": [
      "Epoch 1/10\n"
     ]
    },
    {
     "name": "stderr",
     "output_type": "stream",
     "text": [
      "C:\\Users\\asus\\anaconda3\\lib\\site-packages\\keras\\optimizers\\optimizer_v2\\gradient_descent.py:108: UserWarning: The `lr` argument is deprecated, use `learning_rate` instead.\n",
      "  super(SGD, self).__init__(name, **kwargs)\n"
     ]
    },
    {
     "name": "stdout",
     "output_type": "stream",
     "text": [
      "1122/1122 - 85s - loss: 0.6865 - accuracy: 0.5125 - 85s/epoch - 75ms/step\n",
      "Epoch 2/10\n",
      "1122/1122 - 80s - loss: 0.6755 - accuracy: 0.5495 - 80s/epoch - 71ms/step\n",
      "Epoch 3/10\n",
      "1122/1122 - 80s - loss: 0.6690 - accuracy: 0.5722 - 80s/epoch - 71ms/step\n",
      "Epoch 4/10\n",
      "1122/1122 - 80s - loss: 0.6645 - accuracy: 0.5840 - 80s/epoch - 71ms/step\n",
      "Epoch 5/10\n",
      "1122/1122 - 80s - loss: 0.6605 - accuracy: 0.5923 - 80s/epoch - 71ms/step\n",
      "Epoch 6/10\n",
      "1122/1122 - 80s - loss: 0.6569 - accuracy: 0.5983 - 80s/epoch - 71ms/step\n",
      "Epoch 7/10\n",
      "1122/1122 - 84s - loss: 0.6535 - accuracy: 0.6030 - 84s/epoch - 75ms/step\n",
      "Epoch 8/10\n",
      "1122/1122 - 80s - loss: 0.6502 - accuracy: 0.6079 - 80s/epoch - 71ms/step\n",
      "Epoch 9/10\n",
      "1122/1122 - 80s - loss: 0.6470 - accuracy: 0.6129 - 80s/epoch - 72ms/step\n",
      "Epoch 10/10\n",
      "1122/1122 - 81s - loss: 0.6439 - accuracy: 0.6178 - 81s/epoch - 72ms/step\n",
      "accuracy: 62.03%\n"
     ]
    },
    {
     "name": "stderr",
     "output_type": "stream",
     "text": [
      "WARNING:absl:Found untraced functions such as gru_cell_6_layer_call_fn, gru_cell_6_layer_call_and_return_conditional_losses, gru_cell_7_layer_call_fn, gru_cell_7_layer_call_and_return_conditional_losses while saving (showing 4 of 4). These functions will not be directly callable after loading.\n"
     ]
    },
    {
     "name": "stdout",
     "output_type": "stream",
     "text": [
      "INFO:tensorflow:Assets written to: ram://9ec95547-fae0-49bc-ae8e-35387eb3c539/assets\n"
     ]
    },
    {
     "name": "stderr",
     "output_type": "stream",
     "text": [
      "INFO:tensorflow:Assets written to: ram://9ec95547-fae0-49bc-ae8e-35387eb3c539/assets\n"
     ]
    },
    {
     "name": "stdout",
     "output_type": "stream",
     "text": [
      "Epoch 1/10\n"
     ]
    },
    {
     "name": "stderr",
     "output_type": "stream",
     "text": [
      "C:\\Users\\asus\\anaconda3\\lib\\site-packages\\keras\\optimizers\\optimizer_v2\\gradient_descent.py:108: UserWarning: The `lr` argument is deprecated, use `learning_rate` instead.\n",
      "  super(SGD, self).__init__(name, **kwargs)\n"
     ]
    },
    {
     "name": "stdout",
     "output_type": "stream",
     "text": [
      "1122/1122 - 87s - loss: 0.6661 - accuracy: 0.6025 - 87s/epoch - 77ms/step\n",
      "Epoch 2/10\n",
      "1122/1122 - 83s - loss: 0.6575 - accuracy: 0.6135 - 83s/epoch - 74ms/step\n",
      "Epoch 3/10\n",
      "1122/1122 - 83s - loss: 0.6526 - accuracy: 0.6203 - 83s/epoch - 74ms/step\n",
      "Epoch 4/10\n",
      "1122/1122 - 84s - loss: 0.6484 - accuracy: 0.6246 - 84s/epoch - 75ms/step\n",
      "Epoch 5/10\n",
      "1122/1122 - 83s - loss: 0.6444 - accuracy: 0.6286 - 83s/epoch - 74ms/step\n",
      "Epoch 6/10\n",
      "1122/1122 - 84s - loss: 0.6406 - accuracy: 0.6309 - 84s/epoch - 75ms/step\n",
      "Epoch 7/10\n",
      "1122/1122 - 83s - loss: 0.6369 - accuracy: 0.6349 - 83s/epoch - 74ms/step\n",
      "Epoch 8/10\n",
      "1122/1122 - 83s - loss: 0.6332 - accuracy: 0.6371 - 83s/epoch - 74ms/step\n",
      "Epoch 9/10\n",
      "1122/1122 - 84s - loss: 0.6295 - accuracy: 0.6409 - 84s/epoch - 75ms/step\n",
      "Epoch 10/10\n",
      "1122/1122 - 83s - loss: 0.6258 - accuracy: 0.6429 - 83s/epoch - 74ms/step\n",
      "accuracy: 64.81%\n"
     ]
    },
    {
     "name": "stderr",
     "output_type": "stream",
     "text": [
      "WARNING:absl:Found untraced functions such as gru_cell_8_layer_call_fn, gru_cell_8_layer_call_and_return_conditional_losses, gru_cell_9_layer_call_fn, gru_cell_9_layer_call_and_return_conditional_losses while saving (showing 4 of 4). These functions will not be directly callable after loading.\n"
     ]
    },
    {
     "name": "stdout",
     "output_type": "stream",
     "text": [
      "INFO:tensorflow:Assets written to: ram://e9988037-6f1d-4f51-9579-9c2d59cd330c/assets\n"
     ]
    },
    {
     "name": "stderr",
     "output_type": "stream",
     "text": [
      "INFO:tensorflow:Assets written to: ram://e9988037-6f1d-4f51-9579-9c2d59cd330c/assets\n"
     ]
    },
    {
     "name": "stdout",
     "output_type": "stream",
     "text": [
      "Model Accuracy List:  [65.86070656776428, 64.0775978565216, 62.07560896873474, 62.0256781578064, 64.81098532676697]\n",
      "63.77% (+/- 1.51%)\n"
     ]
    },
    {
     "name": "stderr",
     "output_type": "stream",
     "text": [
      "WARNING:absl:Found untraced functions such as gru_cell_8_layer_call_fn, gru_cell_8_layer_call_and_return_conditional_losses, gru_cell_9_layer_call_fn, gru_cell_9_layer_call_and_return_conditional_losses while saving (showing 4 of 4). These functions will not be directly callable after loading.\n"
     ]
    },
    {
     "name": "stdout",
     "output_type": "stream",
     "text": [
      "INFO:tensorflow:Assets written to: ram://1bb0f9b1-5e6d-49ff-b1db-0ee05f2843c5/assets\n"
     ]
    },
    {
     "name": "stderr",
     "output_type": "stream",
     "text": [
      "INFO:tensorflow:Assets written to: ram://1bb0f9b1-5e6d-49ff-b1db-0ee05f2843c5/assets\n"
     ]
    }
   ],
   "source": [
    "#GRU BEFORE TUNING\n",
    "\n",
    "fold_number = 0\n",
    "\n",
    "kf = KFold(n_splits = total_fold, shuffle=True)                                            \n",
    "cvscores = []\n",
    "\n",
    "for train_index, test_index in kf.split(x_train):                                     \n",
    "    x_train_fold, x_test_fold = x_train[train_index], x_train[test_index]                             \n",
    "    y_train_fold, y_test_fold = y_train[train_index], y_train[test_index]  \n",
    "    model = keras.Sequential(                                                   \n",
    "        [\n",
    "            keras.Input(shape=(None,5)),\n",
    "            layers.GRU(100, return_sequences=True, activation='tanh'),\n",
    "            layers.GRU(100, activation='tanh'),\n",
    "            layers.Dense(2)\n",
    "        ]\n",
    "    )\n",
    "\n",
    "    model.compile(\n",
    "        loss = keras.losses.SparseCategoricalCrossentropy(from_logits=True),\n",
    "        optimizer = keras.optimizers.SGD(lr=3e-4),\n",
    "        metrics = [\"accuracy\"]\n",
    "    )\n",
    "    model.fit(x_train_fold, y_train_fold, batch_size=100, epochs=10, verbose=2)\n",
    "    scores = model.evaluate(x_train[test_index], y_train[test_index], verbose=0)\n",
    "    print(\"%s: %.2f%%\" % (model.metrics_names[1], scores[1]*100))\n",
    "    cvscores.append(scores[1] * 100)\n",
    "    fold_number+=1\n",
    "    fold_name = \"/Users/asus/notebook/TA/Dann Dataset/GRU Model/gru_model_before_tuning_fold_\" + str(fold_number) + \".sav\"\n",
    "    pickle.dump(model, open(fold_name, 'wb'))\n",
    "\n",
    "print(\"Model Accuracy List: \" , cvscores)\n",
    "print(\"%.2f%% (+/- %.2f%%)\" % (np.mean(cvscores), np.std(cvscores)))\n",
    "\n",
    "filename = \"/Users/asus/notebook/TA/Dann Dataset/GRU Model/gru_model_before_tuning.sav\"\n",
    "pickle.dump(model, open(filename, 'wb'))\n"
   ]
  },
  {
   "cell_type": "code",
   "execution_count": 25,
   "metadata": {
    "colab": {
     "base_uri": "https://localhost:8080/"
    },
    "id": "2opkRY-NnnGE",
    "outputId": "d88f0d81-0d88-4e60-ab9d-b681761b4d95"
   },
   "outputs": [
    {
     "name": "stdout",
     "output_type": "stream",
     "text": [
      "Epoch 1/10\n"
     ]
    },
    {
     "name": "stderr",
     "output_type": "stream",
     "text": [
      "C:\\Users\\asus\\anaconda3\\lib\\site-packages\\keras\\optimizers\\optimizer_v2\\adam.py:110: UserWarning: The `lr` argument is deprecated, use `learning_rate` instead.\n",
      "  super(Adam, self).__init__(name, **kwargs)\n"
     ]
    },
    {
     "name": "stdout",
     "output_type": "stream",
     "text": [
      "1122/1122 - 80s - loss: 0.1986 - accuracy: 0.9060 - 80s/epoch - 71ms/step\n",
      "Epoch 2/10\n",
      "1122/1122 - 81s - loss: 0.0573 - accuracy: 0.9776 - 81s/epoch - 72ms/step\n",
      "Epoch 3/10\n",
      "1122/1122 - 82s - loss: 0.0336 - accuracy: 0.9866 - 82s/epoch - 73ms/step\n",
      "Epoch 4/10\n",
      "1122/1122 - 82s - loss: 0.0248 - accuracy: 0.9902 - 82s/epoch - 73ms/step\n",
      "Epoch 5/10\n",
      "1122/1122 - 81s - loss: 0.0203 - accuracy: 0.9917 - 81s/epoch - 72ms/step\n",
      "Epoch 6/10\n",
      "1122/1122 - 81s - loss: 0.0160 - accuracy: 0.9937 - 81s/epoch - 72ms/step\n",
      "Epoch 7/10\n",
      "1122/1122 - 82s - loss: 0.0166 - accuracy: 0.9933 - 82s/epoch - 73ms/step\n",
      "Epoch 8/10\n",
      "1122/1122 - 81s - loss: 0.0149 - accuracy: 0.9943 - 81s/epoch - 72ms/step\n",
      "Epoch 9/10\n",
      "1122/1122 - 82s - loss: 0.0130 - accuracy: 0.9953 - 82s/epoch - 73ms/step\n",
      "Epoch 10/10\n",
      "1122/1122 - 82s - loss: 0.0146 - accuracy: 0.9940 - 82s/epoch - 73ms/step\n",
      "accuracy: 99.89%\n"
     ]
    },
    {
     "name": "stderr",
     "output_type": "stream",
     "text": [
      "WARNING:absl:Found untraced functions such as gru_cell_10_layer_call_fn, gru_cell_10_layer_call_and_return_conditional_losses, gru_cell_11_layer_call_fn, gru_cell_11_layer_call_and_return_conditional_losses while saving (showing 4 of 4). These functions will not be directly callable after loading.\n"
     ]
    },
    {
     "name": "stdout",
     "output_type": "stream",
     "text": [
      "INFO:tensorflow:Assets written to: ram://8ba7b1d7-f990-4bf3-baf9-4d3fa9937c32/assets\n"
     ]
    },
    {
     "name": "stderr",
     "output_type": "stream",
     "text": [
      "INFO:tensorflow:Assets written to: ram://8ba7b1d7-f990-4bf3-baf9-4d3fa9937c32/assets\n"
     ]
    },
    {
     "name": "stdout",
     "output_type": "stream",
     "text": [
      "Epoch 1/10\n"
     ]
    },
    {
     "name": "stderr",
     "output_type": "stream",
     "text": [
      "C:\\Users\\asus\\anaconda3\\lib\\site-packages\\keras\\optimizers\\optimizer_v2\\adam.py:110: UserWarning: The `lr` argument is deprecated, use `learning_rate` instead.\n",
      "  super(Adam, self).__init__(name, **kwargs)\n"
     ]
    },
    {
     "name": "stdout",
     "output_type": "stream",
     "text": [
      "1122/1122 - 87s - loss: 0.2115 - accuracy: 0.9024 - 87s/epoch - 77ms/step\n",
      "Epoch 2/10\n",
      "1122/1122 - 83s - loss: 0.0616 - accuracy: 0.9748 - 83s/epoch - 74ms/step\n",
      "Epoch 3/10\n",
      "1122/1122 - 85s - loss: 0.0388 - accuracy: 0.9848 - 85s/epoch - 75ms/step\n",
      "Epoch 4/10\n",
      "1122/1122 - 83s - loss: 0.0261 - accuracy: 0.9897 - 83s/epoch - 74ms/step\n",
      "Epoch 5/10\n",
      "1122/1122 - 87s - loss: 0.0733 - accuracy: 0.9753 - 87s/epoch - 78ms/step\n",
      "Epoch 6/10\n",
      "1122/1122 - 82s - loss: 0.0317 - accuracy: 0.9870 - 82s/epoch - 73ms/step\n",
      "Epoch 7/10\n",
      "1122/1122 - 82s - loss: 0.0218 - accuracy: 0.9914 - 82s/epoch - 73ms/step\n",
      "Epoch 8/10\n",
      "1122/1122 - 84s - loss: 0.0176 - accuracy: 0.9930 - 84s/epoch - 75ms/step\n",
      "Epoch 9/10\n",
      "1122/1122 - 88s - loss: 0.0153 - accuracy: 0.9936 - 88s/epoch - 78ms/step\n",
      "Epoch 10/10\n",
      "1122/1122 - 90s - loss: 0.0143 - accuracy: 0.9942 - 90s/epoch - 80ms/step\n",
      "accuracy: 99.59%\n"
     ]
    },
    {
     "name": "stderr",
     "output_type": "stream",
     "text": [
      "WARNING:absl:Found untraced functions such as gru_cell_12_layer_call_fn, gru_cell_12_layer_call_and_return_conditional_losses, gru_cell_13_layer_call_fn, gru_cell_13_layer_call_and_return_conditional_losses while saving (showing 4 of 4). These functions will not be directly callable after loading.\n"
     ]
    },
    {
     "name": "stdout",
     "output_type": "stream",
     "text": [
      "INFO:tensorflow:Assets written to: ram://1e00a85b-143e-4101-b04e-d8498c574ae0/assets\n"
     ]
    },
    {
     "name": "stderr",
     "output_type": "stream",
     "text": [
      "INFO:tensorflow:Assets written to: ram://1e00a85b-143e-4101-b04e-d8498c574ae0/assets\n"
     ]
    },
    {
     "name": "stdout",
     "output_type": "stream",
     "text": [
      "Epoch 1/10\n"
     ]
    },
    {
     "name": "stderr",
     "output_type": "stream",
     "text": [
      "C:\\Users\\asus\\anaconda3\\lib\\site-packages\\keras\\optimizers\\optimizer_v2\\adam.py:110: UserWarning: The `lr` argument is deprecated, use `learning_rate` instead.\n",
      "  super(Adam, self).__init__(name, **kwargs)\n"
     ]
    },
    {
     "name": "stdout",
     "output_type": "stream",
     "text": [
      "1122/1122 - 92s - loss: 0.2213 - accuracy: 0.8967 - 92s/epoch - 82ms/step\n",
      "Epoch 2/10\n",
      "1122/1122 - 88s - loss: 0.0586 - accuracy: 0.9755 - 88s/epoch - 78ms/step\n",
      "Epoch 3/10\n",
      "1122/1122 - 92s - loss: 0.0362 - accuracy: 0.9861 - 92s/epoch - 82ms/step\n",
      "Epoch 4/10\n",
      "1122/1122 - 89s - loss: 0.0234 - accuracy: 0.9907 - 89s/epoch - 79ms/step\n",
      "Epoch 5/10\n",
      "1122/1122 - 92s - loss: 0.0276 - accuracy: 0.9902 - 92s/epoch - 82ms/step\n",
      "Epoch 6/10\n",
      "1122/1122 - 93s - loss: 0.0167 - accuracy: 0.9933 - 93s/epoch - 83ms/step\n",
      "Epoch 7/10\n",
      "1122/1122 - 85s - loss: 0.0189 - accuracy: 0.9930 - 85s/epoch - 76ms/step\n",
      "Epoch 8/10\n",
      "1122/1122 - 88s - loss: 0.0150 - accuracy: 0.9940 - 88s/epoch - 78ms/step\n",
      "Epoch 9/10\n",
      "1122/1122 - 90s - loss: 0.0132 - accuracy: 0.9948 - 90s/epoch - 80ms/step\n",
      "Epoch 10/10\n",
      "1122/1122 - 86s - loss: 0.0111 - accuracy: 0.9958 - 86s/epoch - 77ms/step\n",
      "accuracy: 99.70%\n"
     ]
    },
    {
     "name": "stderr",
     "output_type": "stream",
     "text": [
      "WARNING:absl:Found untraced functions such as gru_cell_14_layer_call_fn, gru_cell_14_layer_call_and_return_conditional_losses, gru_cell_15_layer_call_fn, gru_cell_15_layer_call_and_return_conditional_losses while saving (showing 4 of 4). These functions will not be directly callable after loading.\n"
     ]
    },
    {
     "name": "stdout",
     "output_type": "stream",
     "text": [
      "INFO:tensorflow:Assets written to: ram://c3521058-ff3e-4cf4-9c3f-9cedcf3b6232/assets\n"
     ]
    },
    {
     "name": "stderr",
     "output_type": "stream",
     "text": [
      "INFO:tensorflow:Assets written to: ram://c3521058-ff3e-4cf4-9c3f-9cedcf3b6232/assets\n"
     ]
    },
    {
     "name": "stdout",
     "output_type": "stream",
     "text": [
      "Epoch 1/10\n"
     ]
    },
    {
     "name": "stderr",
     "output_type": "stream",
     "text": [
      "C:\\Users\\asus\\anaconda3\\lib\\site-packages\\keras\\optimizers\\optimizer_v2\\adam.py:110: UserWarning: The `lr` argument is deprecated, use `learning_rate` instead.\n",
      "  super(Adam, self).__init__(name, **kwargs)\n"
     ]
    },
    {
     "name": "stdout",
     "output_type": "stream",
     "text": [
      "1122/1122 - 87s - loss: 0.2146 - accuracy: 0.8979 - 87s/epoch - 78ms/step\n",
      "Epoch 2/10\n",
      "1122/1122 - 83s - loss: 0.0606 - accuracy: 0.9758 - 83s/epoch - 74ms/step\n",
      "Epoch 3/10\n",
      "1122/1122 - 84s - loss: 0.0342 - accuracy: 0.9868 - 84s/epoch - 75ms/step\n",
      "Epoch 4/10\n",
      "1122/1122 - 83s - loss: 0.0223 - accuracy: 0.9910 - 83s/epoch - 74ms/step\n",
      "Epoch 5/10\n",
      "1122/1122 - 84s - loss: 0.0185 - accuracy: 0.9927 - 84s/epoch - 75ms/step\n",
      "Epoch 6/10\n",
      "1122/1122 - 93s - loss: 0.0228 - accuracy: 0.9924 - 93s/epoch - 83ms/step\n",
      "Epoch 7/10\n",
      "1122/1122 - 86s - loss: 0.0133 - accuracy: 0.9945 - 86s/epoch - 77ms/step\n",
      "Epoch 8/10\n",
      "1122/1122 - 88s - loss: 0.0144 - accuracy: 0.9941 - 88s/epoch - 78ms/step\n",
      "Epoch 9/10\n",
      "1122/1122 - 85s - loss: 0.0134 - accuracy: 0.9946 - 85s/epoch - 75ms/step\n",
      "Epoch 10/10\n",
      "1122/1122 - 83s - loss: 0.0128 - accuracy: 0.9950 - 83s/epoch - 74ms/step\n",
      "accuracy: 99.56%\n"
     ]
    },
    {
     "name": "stderr",
     "output_type": "stream",
     "text": [
      "WARNING:absl:Found untraced functions such as gru_cell_16_layer_call_fn, gru_cell_16_layer_call_and_return_conditional_losses, gru_cell_17_layer_call_fn, gru_cell_17_layer_call_and_return_conditional_losses while saving (showing 4 of 4). These functions will not be directly callable after loading.\n"
     ]
    },
    {
     "name": "stdout",
     "output_type": "stream",
     "text": [
      "INFO:tensorflow:Assets written to: ram://ec66fa86-8bba-4212-850c-076dbef48d46/assets\n"
     ]
    },
    {
     "name": "stderr",
     "output_type": "stream",
     "text": [
      "INFO:tensorflow:Assets written to: ram://ec66fa86-8bba-4212-850c-076dbef48d46/assets\n",
      "C:\\Users\\asus\\anaconda3\\lib\\site-packages\\keras\\optimizers\\optimizer_v2\\adam.py:110: UserWarning: The `lr` argument is deprecated, use `learning_rate` instead.\n",
      "  super(Adam, self).__init__(name, **kwargs)\n"
     ]
    },
    {
     "name": "stdout",
     "output_type": "stream",
     "text": [
      "Epoch 1/10\n",
      "1122/1122 - 92s - loss: 0.2069 - accuracy: 0.9060 - 92s/epoch - 82ms/step\n",
      "Epoch 2/10\n",
      "1122/1122 - 84s - loss: 0.0632 - accuracy: 0.9738 - 84s/epoch - 74ms/step\n",
      "Epoch 3/10\n",
      "1122/1122 - 87s - loss: 0.0347 - accuracy: 0.9867 - 87s/epoch - 78ms/step\n",
      "Epoch 4/10\n",
      "1122/1122 - 83s - loss: 0.0255 - accuracy: 0.9899 - 83s/epoch - 74ms/step\n",
      "Epoch 5/10\n",
      "1122/1122 - 86s - loss: 0.0255 - accuracy: 0.9914 - 86s/epoch - 76ms/step\n",
      "Epoch 6/10\n",
      "1122/1122 - 90s - loss: 0.0156 - accuracy: 0.9942 - 90s/epoch - 80ms/step\n",
      "Epoch 7/10\n",
      "1122/1122 - 84s - loss: 0.0148 - accuracy: 0.9939 - 84s/epoch - 75ms/step\n",
      "Epoch 8/10\n",
      "1122/1122 - 82s - loss: 0.0140 - accuracy: 0.9946 - 82s/epoch - 73ms/step\n",
      "Epoch 9/10\n",
      "1122/1122 - 83s - loss: 0.0160 - accuracy: 0.9935 - 83s/epoch - 74ms/step\n",
      "Epoch 10/10\n",
      "1122/1122 - 83s - loss: 0.0099 - accuracy: 0.9963 - 83s/epoch - 74ms/step\n",
      "accuracy: 99.70%\n"
     ]
    },
    {
     "name": "stderr",
     "output_type": "stream",
     "text": [
      "WARNING:absl:Found untraced functions such as gru_cell_18_layer_call_fn, gru_cell_18_layer_call_and_return_conditional_losses, gru_cell_19_layer_call_fn, gru_cell_19_layer_call_and_return_conditional_losses while saving (showing 4 of 4). These functions will not be directly callable after loading.\n"
     ]
    },
    {
     "name": "stdout",
     "output_type": "stream",
     "text": [
      "INFO:tensorflow:Assets written to: ram://de41a718-4f5c-478a-9136-75d03d6cc13b/assets\n"
     ]
    },
    {
     "name": "stderr",
     "output_type": "stream",
     "text": [
      "INFO:tensorflow:Assets written to: ram://de41a718-4f5c-478a-9136-75d03d6cc13b/assets\n"
     ]
    },
    {
     "name": "stdout",
     "output_type": "stream",
     "text": [
      "Model Accuracy List:  [99.88588094711304, 99.58631992340088, 99.70042705535889, 99.55777525901794, 99.70042705535889]\n",
      "99.69% (+/- 0.12%)\n"
     ]
    },
    {
     "name": "stderr",
     "output_type": "stream",
     "text": [
      "WARNING:absl:Found untraced functions such as gru_cell_18_layer_call_fn, gru_cell_18_layer_call_and_return_conditional_losses, gru_cell_19_layer_call_fn, gru_cell_19_layer_call_and_return_conditional_losses while saving (showing 4 of 4). These functions will not be directly callable after loading.\n"
     ]
    },
    {
     "name": "stdout",
     "output_type": "stream",
     "text": [
      "INFO:tensorflow:Assets written to: ram://d54d8647-276e-434c-9806-a10b2d49bad5/assets\n"
     ]
    },
    {
     "name": "stderr",
     "output_type": "stream",
     "text": [
      "INFO:tensorflow:Assets written to: ram://d54d8647-276e-434c-9806-a10b2d49bad5/assets\n"
     ]
    }
   ],
   "source": [
    "#GRU AFTER TUNING\n",
    "\n",
    "fold_number = 0\n",
    "\n",
    "kf = KFold(n_splits = total_fold, shuffle=True)                                            \n",
    "cvscores = []\n",
    "\n",
    "for train_index, test_index in kf.split(x_train):                                     \n",
    "    x_train_fold, x_test_fold = x_train[train_index], x_train[test_index]                             \n",
    "    y_train_fold, y_test_fold = y_train[train_index], y_train[test_index]  \n",
    "    model = keras.Sequential(                                                   \n",
    "        [\n",
    "            keras.Input(shape=(None,5)),\n",
    "            layers.GRU(100, return_sequences=True, activation='tanh'),\n",
    "            layers.GRU(100, activation='tanh'),\n",
    "            layers.Dense(2)\n",
    "        ]\n",
    "    )\n",
    "\n",
    "    model.compile(\n",
    "        loss = keras.losses.SparseCategoricalCrossentropy(from_logits=True),\n",
    "        optimizer = keras.optimizers.Adam(lr=3e-4),\n",
    "        metrics = [\"accuracy\"]\n",
    "    )\n",
    "    model.fit(x_train_fold, y_train_fold, batch_size=100, epochs=10, verbose=2)\n",
    "    scores = model.evaluate(x_train[test_index], y_train[test_index], verbose=0)\n",
    "    print(\"%s: %.2f%%\" % (model.metrics_names[1], scores[1]*100))\n",
    "    cvscores.append(scores[1] * 100)\n",
    "    fold_number+=1\n",
    "    fold_name = \"/Users/asus/notebook/TA/Dann Dataset/GRU Model/gru_model_after_tuning_fold_\" + str(fold_number) + \".sav\"\n",
    "    pickle.dump(model, open(fold_name, 'wb'))\n",
    "\n",
    "print(\"Model Accuracy List: \" , cvscores)\n",
    "print(\"%.2f%% (+/- %.2f%%)\" % (np.mean(cvscores), np.std(cvscores)))\n",
    "\n",
    "filename = \"/Users/asus/notebook/TA/Dann Dataset/GRU Model/gru_model_after_tuning.sav\"\n",
    "pickle.dump(model, open(filename, 'wb'))\n"
   ]
  },
  {
   "cell_type": "code",
   "execution_count": 26,
   "metadata": {
    "colab": {
     "base_uri": "https://localhost:8080/"
    },
    "id": "GzMQ1Rf4n9qQ",
    "outputId": "089a6793-65cf-4f8d-8f93-9e1a1a7df5a1"
   },
   "outputs": [
    {
     "name": "stdout",
     "output_type": "stream",
     "text": [
      "Epoch 1/10\n"
     ]
    },
    {
     "name": "stderr",
     "output_type": "stream",
     "text": [
      "C:\\Users\\asus\\anaconda3\\lib\\site-packages\\keras\\optimizers\\optimizer_v2\\gradient_descent.py:108: UserWarning: The `lr` argument is deprecated, use `learning_rate` instead.\n",
      "  super(SGD, self).__init__(name, **kwargs)\n"
     ]
    },
    {
     "name": "stdout",
     "output_type": "stream",
     "text": [
      "1122/1122 - 94s - loss: 0.6805 - accuracy: 0.5113 - 94s/epoch - 84ms/step\n",
      "Epoch 2/10\n",
      "1122/1122 - 93s - loss: 0.6658 - accuracy: 0.5906 - 93s/epoch - 83ms/step\n",
      "Epoch 3/10\n",
      "1122/1122 - 92s - loss: 0.6520 - accuracy: 0.6767 - 92s/epoch - 82ms/step\n",
      "Epoch 4/10\n",
      "1122/1122 - 92s - loss: 0.6417 - accuracy: 0.6908 - 92s/epoch - 82ms/step\n",
      "Epoch 5/10\n",
      "1122/1122 - 92s - loss: 0.6312 - accuracy: 0.6962 - 92s/epoch - 82ms/step\n",
      "Epoch 6/10\n",
      "1122/1122 - 92s - loss: 0.6202 - accuracy: 0.6978 - 92s/epoch - 82ms/step\n",
      "Epoch 7/10\n",
      "1122/1122 - 94s - loss: 0.6087 - accuracy: 0.6987 - 94s/epoch - 84ms/step\n",
      "Epoch 8/10\n",
      "1122/1122 - 92s - loss: 0.5978 - accuracy: 0.6988 - 92s/epoch - 82ms/step\n",
      "Epoch 9/10\n",
      "1122/1122 - 92s - loss: 0.5881 - accuracy: 0.6982 - 92s/epoch - 82ms/step\n",
      "Epoch 10/10\n",
      "1122/1122 - 91s - loss: 0.5800 - accuracy: 0.6975 - 91s/epoch - 81ms/step\n",
      "accuracy: 70.09%\n"
     ]
    },
    {
     "name": "stderr",
     "output_type": "stream",
     "text": [
      "WARNING:absl:Found untraced functions such as lstm_cell_layer_call_fn, lstm_cell_layer_call_and_return_conditional_losses, lstm_cell_1_layer_call_fn, lstm_cell_1_layer_call_and_return_conditional_losses while saving (showing 4 of 4). These functions will not be directly callable after loading.\n"
     ]
    },
    {
     "name": "stdout",
     "output_type": "stream",
     "text": [
      "INFO:tensorflow:Assets written to: ram://ad324467-23b9-4795-ba6b-a92359e73c77/assets\n"
     ]
    },
    {
     "name": "stderr",
     "output_type": "stream",
     "text": [
      "INFO:tensorflow:Assets written to: ram://ad324467-23b9-4795-ba6b-a92359e73c77/assets\n"
     ]
    },
    {
     "name": "stdout",
     "output_type": "stream",
     "text": [
      "Epoch 1/10\n"
     ]
    },
    {
     "name": "stderr",
     "output_type": "stream",
     "text": [
      "C:\\Users\\asus\\anaconda3\\lib\\site-packages\\keras\\optimizers\\optimizer_v2\\gradient_descent.py:108: UserWarning: The `lr` argument is deprecated, use `learning_rate` instead.\n",
      "  super(SGD, self).__init__(name, **kwargs)\n"
     ]
    },
    {
     "name": "stdout",
     "output_type": "stream",
     "text": [
      "1122/1122 - 108s - loss: 0.6838 - accuracy: 0.5035 - 108s/epoch - 96ms/step\n",
      "Epoch 2/10\n",
      "1122/1122 - 106s - loss: 0.6723 - accuracy: 0.5564 - 106s/epoch - 94ms/step\n",
      "Epoch 3/10\n",
      "1122/1122 - 104s - loss: 0.6642 - accuracy: 0.6595 - 104s/epoch - 93ms/step\n",
      "Epoch 4/10\n",
      "1122/1122 - 105s - loss: 0.6560 - accuracy: 0.6835 - 105s/epoch - 94ms/step\n",
      "Epoch 5/10\n",
      "1122/1122 - 109s - loss: 0.6470 - accuracy: 0.6928 - 109s/epoch - 97ms/step\n",
      "Epoch 6/10\n",
      "1122/1122 - 104s - loss: 0.6374 - accuracy: 0.6967 - 104s/epoch - 93ms/step\n",
      "Epoch 7/10\n",
      "1122/1122 - 106s - loss: 0.6273 - accuracy: 0.7000 - 106s/epoch - 95ms/step\n",
      "Epoch 8/10\n",
      "1122/1122 - 103s - loss: 0.6170 - accuracy: 0.7017 - 103s/epoch - 92ms/step\n",
      "Epoch 9/10\n",
      "1122/1122 - 105s - loss: 0.6069 - accuracy: 0.7030 - 105s/epoch - 94ms/step\n",
      "Epoch 10/10\n",
      "1122/1122 - 110s - loss: 0.5972 - accuracy: 0.7038 - 110s/epoch - 98ms/step\n",
      "accuracy: 70.32%\n"
     ]
    },
    {
     "name": "stderr",
     "output_type": "stream",
     "text": [
      "WARNING:absl:Found untraced functions such as lstm_cell_2_layer_call_fn, lstm_cell_2_layer_call_and_return_conditional_losses, lstm_cell_3_layer_call_fn, lstm_cell_3_layer_call_and_return_conditional_losses while saving (showing 4 of 4). These functions will not be directly callable after loading.\n"
     ]
    },
    {
     "name": "stdout",
     "output_type": "stream",
     "text": [
      "INFO:tensorflow:Assets written to: ram://4d2316be-57c4-46da-9368-35a4a945bfdc/assets\n"
     ]
    },
    {
     "name": "stderr",
     "output_type": "stream",
     "text": [
      "INFO:tensorflow:Assets written to: ram://4d2316be-57c4-46da-9368-35a4a945bfdc/assets\n"
     ]
    },
    {
     "name": "stdout",
     "output_type": "stream",
     "text": [
      "Epoch 1/10\n"
     ]
    },
    {
     "name": "stderr",
     "output_type": "stream",
     "text": [
      "C:\\Users\\asus\\anaconda3\\lib\\site-packages\\keras\\optimizers\\optimizer_v2\\gradient_descent.py:108: UserWarning: The `lr` argument is deprecated, use `learning_rate` instead.\n",
      "  super(SGD, self).__init__(name, **kwargs)\n"
     ]
    },
    {
     "name": "stdout",
     "output_type": "stream",
     "text": [
      "1122/1122 - 116s - loss: 0.6843 - accuracy: 0.6372 - 116s/epoch - 103ms/step\n",
      "Epoch 2/10\n",
      "1122/1122 - 113s - loss: 0.6729 - accuracy: 0.6889 - 113s/epoch - 100ms/step\n",
      "Epoch 3/10\n",
      "1122/1122 - 113s - loss: 0.6645 - accuracy: 0.6986 - 113s/epoch - 101ms/step\n",
      "Epoch 4/10\n",
      "1122/1122 - 112s - loss: 0.6562 - accuracy: 0.7037 - 112s/epoch - 100ms/step\n",
      "Epoch 5/10\n",
      "1122/1122 - 112s - loss: 0.6477 - accuracy: 0.7053 - 112s/epoch - 100ms/step\n",
      "Epoch 6/10\n",
      "1122/1122 - 111s - loss: 0.6390 - accuracy: 0.7052 - 111s/epoch - 99ms/step\n",
      "Epoch 7/10\n",
      "1122/1122 - 113s - loss: 0.6297 - accuracy: 0.7056 - 113s/epoch - 101ms/step\n",
      "Epoch 8/10\n",
      "1122/1122 - 112s - loss: 0.6198 - accuracy: 0.7056 - 112s/epoch - 99ms/step\n",
      "Epoch 9/10\n",
      "1122/1122 - 113s - loss: 0.6095 - accuracy: 0.7056 - 113s/epoch - 100ms/step\n",
      "Epoch 10/10\n",
      "1122/1122 - 127s - loss: 0.5993 - accuracy: 0.7054 - 127s/epoch - 113ms/step\n",
      "accuracy: 70.78%\n"
     ]
    },
    {
     "name": "stderr",
     "output_type": "stream",
     "text": [
      "WARNING:absl:Found untraced functions such as lstm_cell_4_layer_call_fn, lstm_cell_4_layer_call_and_return_conditional_losses, lstm_cell_5_layer_call_fn, lstm_cell_5_layer_call_and_return_conditional_losses while saving (showing 4 of 4). These functions will not be directly callable after loading.\n"
     ]
    },
    {
     "name": "stdout",
     "output_type": "stream",
     "text": [
      "INFO:tensorflow:Assets written to: ram://c8e26d24-7eb5-49b9-be5b-ba4d8379e743/assets\n"
     ]
    },
    {
     "name": "stderr",
     "output_type": "stream",
     "text": [
      "INFO:tensorflow:Assets written to: ram://c8e26d24-7eb5-49b9-be5b-ba4d8379e743/assets\n"
     ]
    },
    {
     "name": "stdout",
     "output_type": "stream",
     "text": [
      "Epoch 1/10\n"
     ]
    },
    {
     "name": "stderr",
     "output_type": "stream",
     "text": [
      "C:\\Users\\asus\\anaconda3\\lib\\site-packages\\keras\\optimizers\\optimizer_v2\\gradient_descent.py:108: UserWarning: The `lr` argument is deprecated, use `learning_rate` instead.\n",
      "  super(SGD, self).__init__(name, **kwargs)\n"
     ]
    },
    {
     "name": "stdout",
     "output_type": "stream",
     "text": [
      "1122/1122 - 114s - loss: 0.6793 - accuracy: 0.5126 - 114s/epoch - 102ms/step\n",
      "Epoch 2/10\n",
      "1122/1122 - 106s - loss: 0.6668 - accuracy: 0.6087 - 106s/epoch - 95ms/step\n",
      "Epoch 3/10\n",
      "1122/1122 - 109s - loss: 0.6567 - accuracy: 0.6781 - 109s/epoch - 98ms/step\n",
      "Epoch 4/10\n",
      "1122/1122 - 110s - loss: 0.6467 - accuracy: 0.6930 - 110s/epoch - 98ms/step\n",
      "Epoch 5/10\n",
      "1122/1122 - 105s - loss: 0.6363 - accuracy: 0.6996 - 105s/epoch - 94ms/step\n",
      "Epoch 6/10\n",
      "1122/1122 - 104s - loss: 0.6252 - accuracy: 0.7012 - 104s/epoch - 93ms/step\n",
      "Epoch 7/10\n",
      "1122/1122 - 104s - loss: 0.6137 - accuracy: 0.7027 - 104s/epoch - 92ms/step\n",
      "Epoch 8/10\n",
      "1122/1122 - 103s - loss: 0.6027 - accuracy: 0.7028 - 103s/epoch - 92ms/step\n",
      "Epoch 9/10\n",
      "1122/1122 - 106s - loss: 0.5927 - accuracy: 0.7020 - 106s/epoch - 94ms/step\n",
      "Epoch 10/10\n",
      "1122/1122 - 102s - loss: 0.5841 - accuracy: 0.7012 - 102s/epoch - 91ms/step\n",
      "accuracy: 69.44%\n"
     ]
    },
    {
     "name": "stderr",
     "output_type": "stream",
     "text": [
      "WARNING:absl:Found untraced functions such as lstm_cell_6_layer_call_fn, lstm_cell_6_layer_call_and_return_conditional_losses, lstm_cell_7_layer_call_fn, lstm_cell_7_layer_call_and_return_conditional_losses while saving (showing 4 of 4). These functions will not be directly callable after loading.\n"
     ]
    },
    {
     "name": "stdout",
     "output_type": "stream",
     "text": [
      "INFO:tensorflow:Assets written to: ram://19b81024-6a2b-4692-804a-338d538899cf/assets\n"
     ]
    },
    {
     "name": "stderr",
     "output_type": "stream",
     "text": [
      "INFO:tensorflow:Assets written to: ram://19b81024-6a2b-4692-804a-338d538899cf/assets\n"
     ]
    },
    {
     "name": "stdout",
     "output_type": "stream",
     "text": [
      "Epoch 1/10\n"
     ]
    },
    {
     "name": "stderr",
     "output_type": "stream",
     "text": [
      "C:\\Users\\asus\\anaconda3\\lib\\site-packages\\keras\\optimizers\\optimizer_v2\\gradient_descent.py:108: UserWarning: The `lr` argument is deprecated, use `learning_rate` instead.\n",
      "  super(SGD, self).__init__(name, **kwargs)\n"
     ]
    },
    {
     "name": "stdout",
     "output_type": "stream",
     "text": [
      "1122/1122 - 102s - loss: 0.6894 - accuracy: 0.5594 - 102s/epoch - 91ms/step\n",
      "Epoch 2/10\n",
      "1122/1122 - 97s - loss: 0.6783 - accuracy: 0.6361 - 97s/epoch - 86ms/step\n",
      "Epoch 3/10\n",
      "1122/1122 - 99s - loss: 0.6706 - accuracy: 0.6159 - 99s/epoch - 89ms/step\n",
      "Epoch 4/10\n",
      "1122/1122 - 98s - loss: 0.6636 - accuracy: 0.6981 - 98s/epoch - 87ms/step\n",
      "Epoch 5/10\n",
      "1122/1122 - 101s - loss: 0.6565 - accuracy: 0.7098 - 101s/epoch - 90ms/step\n",
      "Epoch 6/10\n",
      "1122/1122 - 102s - loss: 0.6486 - accuracy: 0.7081 - 102s/epoch - 91ms/step\n",
      "Epoch 7/10\n",
      "1122/1122 - 103s - loss: 0.6398 - accuracy: 0.7083 - 103s/epoch - 92ms/step\n",
      "Epoch 8/10\n",
      "1122/1122 - 101s - loss: 0.6302 - accuracy: 0.7077 - 101s/epoch - 90ms/step\n",
      "Epoch 9/10\n",
      "1122/1122 - 102s - loss: 0.6201 - accuracy: 0.7075 - 102s/epoch - 91ms/step\n",
      "Epoch 10/10\n",
      "1122/1122 - 103s - loss: 0.6099 - accuracy: 0.7060 - 103s/epoch - 92ms/step\n",
      "accuracy: 70.68%\n"
     ]
    },
    {
     "name": "stderr",
     "output_type": "stream",
     "text": [
      "WARNING:absl:Found untraced functions such as lstm_cell_8_layer_call_fn, lstm_cell_8_layer_call_and_return_conditional_losses, lstm_cell_9_layer_call_fn, lstm_cell_9_layer_call_and_return_conditional_losses while saving (showing 4 of 4). These functions will not be directly callable after loading.\n"
     ]
    },
    {
     "name": "stdout",
     "output_type": "stream",
     "text": [
      "INFO:tensorflow:Assets written to: ram://04c785f8-568c-4230-a920-96ba823e1cb8/assets\n"
     ]
    },
    {
     "name": "stderr",
     "output_type": "stream",
     "text": [
      "INFO:tensorflow:Assets written to: ram://04c785f8-568c-4230-a920-96ba823e1cb8/assets\n"
     ]
    },
    {
     "name": "stdout",
     "output_type": "stream",
     "text": [
      "Model Accuracy List:  [70.09379267692566, 70.32203078269958, 70.78102827072144, 69.43652033805847, 70.68117260932922]\n",
      "70.26% (+/- 0.48%)\n"
     ]
    },
    {
     "name": "stderr",
     "output_type": "stream",
     "text": [
      "WARNING:absl:Found untraced functions such as lstm_cell_8_layer_call_fn, lstm_cell_8_layer_call_and_return_conditional_losses, lstm_cell_9_layer_call_fn, lstm_cell_9_layer_call_and_return_conditional_losses while saving (showing 4 of 4). These functions will not be directly callable after loading.\n"
     ]
    },
    {
     "name": "stdout",
     "output_type": "stream",
     "text": [
      "INFO:tensorflow:Assets written to: ram://16c10a56-b760-45e8-877b-e0caf5e56a44/assets\n"
     ]
    },
    {
     "name": "stderr",
     "output_type": "stream",
     "text": [
      "INFO:tensorflow:Assets written to: ram://16c10a56-b760-45e8-877b-e0caf5e56a44/assets\n"
     ]
    }
   ],
   "source": [
    "#LSTM BEFORE TUNING \n",
    "\n",
    "fold_number = 0\n",
    "\n",
    "kf = KFold(n_splits = total_fold, shuffle=True)                                            \n",
    "cvscores = []\n",
    "\n",
    "for train_index, test_index in kf.split(x_train):                                     \n",
    "    x_train_fold, x_test_fold = x_train[train_index], x_train[test_index]                             \n",
    "    y_train_fold, y_test_fold = y_train[train_index], y_train[test_index]  \n",
    "    model = keras.Sequential(                                                   \n",
    "        [\n",
    "            keras.Input(shape=(None,5)),\n",
    "            layers.LSTM(100, return_sequences=True, activation='tanh'),\n",
    "            layers.LSTM(100, activation='tanh'),\n",
    "            layers.Dense(2)\n",
    "        ]\n",
    "    )\n",
    "\n",
    "    model.compile(\n",
    "        loss = keras.losses.SparseCategoricalCrossentropy(from_logits=True),\n",
    "        optimizer = keras.optimizers.SGD(lr=3e-4),\n",
    "        metrics = [\"accuracy\"]\n",
    "    )\n",
    "    model.fit(x_train_fold, y_train_fold, batch_size=100, epochs=10, verbose=2)\n",
    "    scores = model.evaluate(x_train[test_index], y_train[test_index], verbose=0)\n",
    "    print(\"%s: %.2f%%\" % (model.metrics_names[1], scores[1]*100))\n",
    "    cvscores.append(scores[1] * 100)\n",
    "    fold_number+=1\n",
    "    fold_name = \"/Users/asus/notebook/TA/Dann Dataset/LSTM Model/lstm_model_before_tuning_fold_\" + str(fold_number) + \".sav\"\n",
    "    pickle.dump(model, open(fold_name, 'wb'))\n",
    "\n",
    "print(\"Model Accuracy List: \" , cvscores)\n",
    "print(\"%.2f%% (+/- %.2f%%)\" % (np.mean(cvscores), np.std(cvscores)))\n",
    "\n",
    "filename = \"/Users/asus/notebook/TA/Dann Dataset/LSTM Model/lstm_model_before_tuning.sav\"\n",
    "pickle.dump(model, open(filename, 'wb'))\n"
   ]
  },
  {
   "cell_type": "code",
   "execution_count": 27,
   "metadata": {
    "colab": {
     "base_uri": "https://localhost:8080/"
    },
    "id": "rqJ27C2noahB",
    "outputId": "28db58ae-3dda-4f15-e04c-2fef51364b73"
   },
   "outputs": [
    {
     "name": "stdout",
     "output_type": "stream",
     "text": [
      "Epoch 1/10\n"
     ]
    },
    {
     "name": "stderr",
     "output_type": "stream",
     "text": [
      "C:\\Users\\asus\\anaconda3\\lib\\site-packages\\keras\\optimizers\\optimizer_v2\\adam.py:110: UserWarning: The `lr` argument is deprecated, use `learning_rate` instead.\n",
      "  super(Adam, self).__init__(name, **kwargs)\n"
     ]
    },
    {
     "name": "stdout",
     "output_type": "stream",
     "text": [
      "1122/1122 - 123s - loss: 0.2293 - accuracy: 0.8985 - 123s/epoch - 110ms/step\n",
      "Epoch 2/10\n",
      "1122/1122 - 123s - loss: 0.0793 - accuracy: 0.9681 - 123s/epoch - 110ms/step\n",
      "Epoch 3/10\n",
      "1122/1122 - 122s - loss: 0.0467 - accuracy: 0.9818 - 122s/epoch - 109ms/step\n",
      "Epoch 4/10\n",
      "1122/1122 - 124s - loss: 0.0324 - accuracy: 0.9876 - 124s/epoch - 110ms/step\n",
      "Epoch 5/10\n",
      "1122/1122 - 124s - loss: 0.0282 - accuracy: 0.9887 - 124s/epoch - 110ms/step\n",
      "Epoch 6/10\n",
      "1122/1122 - 124s - loss: 0.0255 - accuracy: 0.9898 - 124s/epoch - 110ms/step\n",
      "Epoch 7/10\n",
      "1122/1122 - 123s - loss: 0.0220 - accuracy: 0.9913 - 123s/epoch - 109ms/step\n",
      "Epoch 8/10\n",
      "1122/1122 - 123s - loss: 0.0200 - accuracy: 0.9920 - 123s/epoch - 110ms/step\n",
      "Epoch 9/10\n",
      "1122/1122 - 127s - loss: 0.0174 - accuracy: 0.9932 - 127s/epoch - 113ms/step\n",
      "Epoch 10/10\n",
      "1122/1122 - 125s - loss: 0.0159 - accuracy: 0.9933 - 125s/epoch - 111ms/step\n",
      "accuracy: 99.56%\n"
     ]
    },
    {
     "name": "stderr",
     "output_type": "stream",
     "text": [
      "WARNING:absl:Found untraced functions such as lstm_cell_10_layer_call_fn, lstm_cell_10_layer_call_and_return_conditional_losses, lstm_cell_11_layer_call_fn, lstm_cell_11_layer_call_and_return_conditional_losses while saving (showing 4 of 4). These functions will not be directly callable after loading.\n"
     ]
    },
    {
     "name": "stdout",
     "output_type": "stream",
     "text": [
      "INFO:tensorflow:Assets written to: ram://1adbd81a-e45a-4ff3-b953-8ccf0ce5c0dd/assets\n"
     ]
    },
    {
     "name": "stderr",
     "output_type": "stream",
     "text": [
      "INFO:tensorflow:Assets written to: ram://1adbd81a-e45a-4ff3-b953-8ccf0ce5c0dd/assets\n"
     ]
    },
    {
     "name": "stdout",
     "output_type": "stream",
     "text": [
      "Epoch 1/10\n"
     ]
    },
    {
     "name": "stderr",
     "output_type": "stream",
     "text": [
      "C:\\Users\\asus\\anaconda3\\lib\\site-packages\\keras\\optimizers\\optimizer_v2\\adam.py:110: UserWarning: The `lr` argument is deprecated, use `learning_rate` instead.\n",
      "  super(Adam, self).__init__(name, **kwargs)\n"
     ]
    },
    {
     "name": "stdout",
     "output_type": "stream",
     "text": [
      "1122/1122 - 111s - loss: 0.2272 - accuracy: 0.9034 - 111s/epoch - 99ms/step\n",
      "Epoch 2/10\n",
      "1122/1122 - 107s - loss: 0.0856 - accuracy: 0.9661 - 107s/epoch - 96ms/step\n",
      "Epoch 3/10\n",
      "1122/1122 - 110s - loss: 0.0524 - accuracy: 0.9800 - 110s/epoch - 98ms/step\n",
      "Epoch 4/10\n",
      "1122/1122 - 111s - loss: 0.0394 - accuracy: 0.9851 - 111s/epoch - 99ms/step\n",
      "Epoch 5/10\n",
      "1122/1122 - 109s - loss: 0.0369 - accuracy: 0.9854 - 109s/epoch - 97ms/step\n",
      "Epoch 6/10\n",
      "1122/1122 - 109s - loss: 0.0241 - accuracy: 0.9907 - 109s/epoch - 97ms/step\n",
      "Epoch 7/10\n",
      "1122/1122 - 106s - loss: 0.0235 - accuracy: 0.9903 - 106s/epoch - 95ms/step\n",
      "Epoch 8/10\n",
      "1122/1122 - 110s - loss: 0.0214 - accuracy: 0.9916 - 110s/epoch - 98ms/step\n",
      "Epoch 9/10\n",
      "1122/1122 - 113s - loss: 0.0192 - accuracy: 0.9925 - 113s/epoch - 101ms/step\n",
      "Epoch 10/10\n",
      "1122/1122 - 108s - loss: 0.0181 - accuracy: 0.9928 - 108s/epoch - 96ms/step\n",
      "accuracy: 99.69%\n"
     ]
    },
    {
     "name": "stderr",
     "output_type": "stream",
     "text": [
      "WARNING:absl:Found untraced functions such as lstm_cell_12_layer_call_fn, lstm_cell_12_layer_call_and_return_conditional_losses, lstm_cell_13_layer_call_fn, lstm_cell_13_layer_call_and_return_conditional_losses while saving (showing 4 of 4). These functions will not be directly callable after loading.\n"
     ]
    },
    {
     "name": "stdout",
     "output_type": "stream",
     "text": [
      "INFO:tensorflow:Assets written to: ram://d6612b13-bcb8-4f4d-bf3a-4c3f617b1341/assets\n"
     ]
    },
    {
     "name": "stderr",
     "output_type": "stream",
     "text": [
      "INFO:tensorflow:Assets written to: ram://d6612b13-bcb8-4f4d-bf3a-4c3f617b1341/assets\n"
     ]
    },
    {
     "name": "stdout",
     "output_type": "stream",
     "text": [
      "Epoch 1/10\n"
     ]
    },
    {
     "name": "stderr",
     "output_type": "stream",
     "text": [
      "C:\\Users\\asus\\anaconda3\\lib\\site-packages\\keras\\optimizers\\optimizer_v2\\adam.py:110: UserWarning: The `lr` argument is deprecated, use `learning_rate` instead.\n",
      "  super(Adam, self).__init__(name, **kwargs)\n"
     ]
    },
    {
     "name": "stdout",
     "output_type": "stream",
     "text": [
      "1122/1122 - 112s - loss: 0.2232 - accuracy: 0.9026 - 112s/epoch - 100ms/step\n",
      "Epoch 2/10\n",
      "1122/1122 - 110s - loss: 0.0966 - accuracy: 0.9627 - 110s/epoch - 98ms/step\n",
      "Epoch 3/10\n",
      "1122/1122 - 110s - loss: 0.0555 - accuracy: 0.9787 - 110s/epoch - 98ms/step\n",
      "Epoch 4/10\n",
      "1122/1122 - 110s - loss: 0.0396 - accuracy: 0.9844 - 110s/epoch - 98ms/step\n",
      "Epoch 5/10\n",
      "1122/1122 - 109s - loss: 0.0328 - accuracy: 0.9870 - 109s/epoch - 97ms/step\n",
      "Epoch 6/10\n",
      "1122/1122 - 109s - loss: 0.0277 - accuracy: 0.9893 - 109s/epoch - 97ms/step\n",
      "Epoch 7/10\n",
      "1122/1122 - 115s - loss: 0.0229 - accuracy: 0.9909 - 115s/epoch - 102ms/step\n",
      "Epoch 8/10\n",
      "1122/1122 - 109s - loss: 0.0235 - accuracy: 0.9912 - 109s/epoch - 97ms/step\n",
      "Epoch 9/10\n",
      "1122/1122 - 112s - loss: 0.0210 - accuracy: 0.9919 - 112s/epoch - 100ms/step\n",
      "Epoch 10/10\n",
      "1122/1122 - 116s - loss: 0.0179 - accuracy: 0.9928 - 116s/epoch - 103ms/step\n",
      "accuracy: 99.51%\n"
     ]
    },
    {
     "name": "stderr",
     "output_type": "stream",
     "text": [
      "WARNING:absl:Found untraced functions such as lstm_cell_14_layer_call_fn, lstm_cell_14_layer_call_and_return_conditional_losses, lstm_cell_15_layer_call_fn, lstm_cell_15_layer_call_and_return_conditional_losses while saving (showing 4 of 4). These functions will not be directly callable after loading.\n"
     ]
    },
    {
     "name": "stdout",
     "output_type": "stream",
     "text": [
      "INFO:tensorflow:Assets written to: ram://d0d4e0a4-43c3-44b2-80ef-8a2efaac498f/assets\n"
     ]
    },
    {
     "name": "stderr",
     "output_type": "stream",
     "text": [
      "INFO:tensorflow:Assets written to: ram://d0d4e0a4-43c3-44b2-80ef-8a2efaac498f/assets\n"
     ]
    },
    {
     "name": "stdout",
     "output_type": "stream",
     "text": [
      "Epoch 1/10\n"
     ]
    },
    {
     "name": "stderr",
     "output_type": "stream",
     "text": [
      "C:\\Users\\asus\\anaconda3\\lib\\site-packages\\keras\\optimizers\\optimizer_v2\\adam.py:110: UserWarning: The `lr` argument is deprecated, use `learning_rate` instead.\n",
      "  super(Adam, self).__init__(name, **kwargs)\n"
     ]
    },
    {
     "name": "stdout",
     "output_type": "stream",
     "text": [
      "1122/1122 - 118s - loss: 0.2234 - accuracy: 0.9038 - 118s/epoch - 105ms/step\n",
      "Epoch 2/10\n",
      "1122/1122 - 114s - loss: 0.0865 - accuracy: 0.9661 - 114s/epoch - 101ms/step\n",
      "Epoch 3/10\n",
      "1122/1122 - 118s - loss: 0.0506 - accuracy: 0.9813 - 118s/epoch - 105ms/step\n",
      "Epoch 4/10\n",
      "1122/1122 - 117s - loss: 0.0420 - accuracy: 0.9851 - 117s/epoch - 104ms/step\n",
      "Epoch 5/10\n",
      "1122/1122 - 117s - loss: 0.0286 - accuracy: 0.9888 - 117s/epoch - 105ms/step\n",
      "Epoch 6/10\n",
      "1122/1122 - 115s - loss: 0.0267 - accuracy: 0.9897 - 115s/epoch - 103ms/step\n",
      "Epoch 7/10\n",
      "1122/1122 - 114s - loss: 0.0217 - accuracy: 0.9912 - 114s/epoch - 101ms/step\n",
      "Epoch 8/10\n",
      "1122/1122 - 113s - loss: 0.0228 - accuracy: 0.9913 - 113s/epoch - 101ms/step\n",
      "Epoch 9/10\n",
      "1122/1122 - 114s - loss: 0.0193 - accuracy: 0.9925 - 114s/epoch - 101ms/step\n",
      "Epoch 10/10\n",
      "1122/1122 - 115s - loss: 0.0209 - accuracy: 0.9919 - 115s/epoch - 102ms/step\n",
      "accuracy: 99.46%\n"
     ]
    },
    {
     "name": "stderr",
     "output_type": "stream",
     "text": [
      "WARNING:absl:Found untraced functions such as lstm_cell_16_layer_call_fn, lstm_cell_16_layer_call_and_return_conditional_losses, lstm_cell_17_layer_call_fn, lstm_cell_17_layer_call_and_return_conditional_losses while saving (showing 4 of 4). These functions will not be directly callable after loading.\n"
     ]
    },
    {
     "name": "stdout",
     "output_type": "stream",
     "text": [
      "INFO:tensorflow:Assets written to: ram://2a1d10f6-d4fc-4606-b228-0bad8fc59ceb/assets\n"
     ]
    },
    {
     "name": "stderr",
     "output_type": "stream",
     "text": [
      "INFO:tensorflow:Assets written to: ram://2a1d10f6-d4fc-4606-b228-0bad8fc59ceb/assets\n"
     ]
    },
    {
     "name": "stdout",
     "output_type": "stream",
     "text": [
      "Epoch 1/10\n"
     ]
    },
    {
     "name": "stderr",
     "output_type": "stream",
     "text": [
      "C:\\Users\\asus\\anaconda3\\lib\\site-packages\\keras\\optimizers\\optimizer_v2\\adam.py:110: UserWarning: The `lr` argument is deprecated, use `learning_rate` instead.\n",
      "  super(Adam, self).__init__(name, **kwargs)\n"
     ]
    },
    {
     "name": "stdout",
     "output_type": "stream",
     "text": [
      "1122/1122 - 136s - loss: 0.2421 - accuracy: 0.8909 - 136s/epoch - 121ms/step\n",
      "Epoch 2/10\n",
      "1122/1122 - 130s - loss: 0.1052 - accuracy: 0.9598 - 130s/epoch - 116ms/step\n",
      "Epoch 3/10\n",
      "1122/1122 - 132s - loss: 0.0544 - accuracy: 0.9786 - 132s/epoch - 117ms/step\n",
      "Epoch 4/10\n",
      "1122/1122 - 132s - loss: 0.0426 - accuracy: 0.9847 - 132s/epoch - 117ms/step\n",
      "Epoch 5/10\n",
      "1122/1122 - 135s - loss: 0.0329 - accuracy: 0.9875 - 135s/epoch - 120ms/step\n",
      "Epoch 6/10\n",
      "1122/1122 - 139s - loss: 0.0340 - accuracy: 0.9872 - 139s/epoch - 124ms/step\n",
      "Epoch 7/10\n",
      "1122/1122 - 133s - loss: 0.0222 - accuracy: 0.9913 - 133s/epoch - 119ms/step\n",
      "Epoch 8/10\n",
      "1122/1122 - 132s - loss: 0.0300 - accuracy: 0.9888 - 132s/epoch - 118ms/step\n",
      "Epoch 9/10\n",
      "1122/1122 - 145s - loss: 0.0194 - accuracy: 0.9921 - 145s/epoch - 129ms/step\n",
      "Epoch 10/10\n",
      "1122/1122 - 134s - loss: 0.0194 - accuracy: 0.9923 - 134s/epoch - 120ms/step\n",
      "accuracy: 99.23%\n"
     ]
    },
    {
     "name": "stderr",
     "output_type": "stream",
     "text": [
      "WARNING:absl:Found untraced functions such as lstm_cell_18_layer_call_fn, lstm_cell_18_layer_call_and_return_conditional_losses, lstm_cell_19_layer_call_fn, lstm_cell_19_layer_call_and_return_conditional_losses while saving (showing 4 of 4). These functions will not be directly callable after loading.\n"
     ]
    },
    {
     "name": "stdout",
     "output_type": "stream",
     "text": [
      "INFO:tensorflow:Assets written to: ram://3da61389-4861-4fb6-a4cc-2153627f95bb/assets\n"
     ]
    },
    {
     "name": "stderr",
     "output_type": "stream",
     "text": [
      "INFO:tensorflow:Assets written to: ram://3da61389-4861-4fb6-a4cc-2153627f95bb/assets\n"
     ]
    },
    {
     "name": "stdout",
     "output_type": "stream",
     "text": [
      "Model Accuracy List:  [99.56492185592651, 99.68617558479309, 99.5078444480896, 99.45791959762573, 99.22610521316528]\n",
      "99.49% (+/- 0.15%)\n"
     ]
    },
    {
     "name": "stderr",
     "output_type": "stream",
     "text": [
      "WARNING:absl:Found untraced functions such as lstm_cell_18_layer_call_fn, lstm_cell_18_layer_call_and_return_conditional_losses, lstm_cell_19_layer_call_fn, lstm_cell_19_layer_call_and_return_conditional_losses while saving (showing 4 of 4). These functions will not be directly callable after loading.\n"
     ]
    },
    {
     "name": "stdout",
     "output_type": "stream",
     "text": [
      "INFO:tensorflow:Assets written to: ram://5625665a-27d2-41fe-b896-b63fd94bcc3f/assets\n"
     ]
    },
    {
     "name": "stderr",
     "output_type": "stream",
     "text": [
      "INFO:tensorflow:Assets written to: ram://5625665a-27d2-41fe-b896-b63fd94bcc3f/assets\n"
     ]
    }
   ],
   "source": [
    "#LSTM AFTER TUNING\n",
    "\n",
    "fold_number = 0\n",
    "\n",
    "kf = KFold(n_splits = total_fold, shuffle=True)                                            \n",
    "cvscores = []\n",
    "\n",
    "for train_index, test_index in kf.split(x_train):                                     \n",
    "    x_train_fold, x_test_fold = x_train[train_index], x_train[test_index]                             \n",
    "    y_train_fold, y_test_fold = y_train[train_index], y_train[test_index]  \n",
    "    model = keras.Sequential(                                                   \n",
    "        [\n",
    "            keras.Input(shape=(None,5)),\n",
    "            layers.LSTM(100, return_sequences=True, activation='tanh'),\n",
    "            layers.LSTM(100, activation='tanh'),\n",
    "            layers.Dense(2)\n",
    "        ]\n",
    "    )\n",
    "\n",
    "    model.compile(\n",
    "        loss = keras.losses.SparseCategoricalCrossentropy(from_logits=True),\n",
    "        optimizer = keras.optimizers.Adam(lr=3e-4),\n",
    "        metrics = [\"accuracy\"]\n",
    "    )\n",
    "    model.fit(x_train_fold, y_train_fold, batch_size=100, epochs=10, verbose=2)\n",
    "    scores = model.evaluate(x_train[test_index], y_train[test_index], verbose=0)\n",
    "    print(\"%s: %.2f%%\" % (model.metrics_names[1], scores[1]*100))\n",
    "    cvscores.append(scores[1] * 100)\n",
    "    fold_number+=1\n",
    "    fold_name = \"/Users/asus/notebook/TA/Dann Dataset/LSTM Model/lstm_model_after_tuning_fold_\" + str(fold_number) + \".sav\"\n",
    "    pickle.dump(model, open(fold_name, 'wb'))\n",
    "\n",
    "print(\"Model Accuracy List: \" , cvscores)\n",
    "print(\"%.2f%% (+/- %.2f%%)\" % (np.mean(cvscores), np.std(cvscores)))\n",
    "\n",
    "\n",
    "filename = \"/Users/asus/notebook/TA/Dann Dataset/LSTM Model/lstm_model_after_tuning.sav\"\n",
    "pickle.dump(model, open(filename, 'wb'))\n"
   ]
  },
  {
   "cell_type": "markdown",
   "metadata": {
    "id": "LUxWL8XMMQBP"
   },
   "source": [
    "Get list of accuracy, precision, recall and f1\n",
    "Pengujian Data Testing\n",
    "- Load Model untuk klasifikasi data Testing\n",
    "- Model sudah di Load lalu melakukan Predict terhadap data Testing\n",
    "- Simpan data Hasil Predict untuk codingan selanjutnya"
   ]
  },
  {
   "cell_type": "code",
   "execution_count": 40,
   "metadata": {
    "colab": {
     "base_uri": "https://localhost:8080/"
    },
    "id": "-bz3MmtKu0Rz",
    "outputId": "afe008c3-8bc4-49f8-e478-c3d005c8e161",
    "scrolled": true
   },
   "outputs": [
    {
     "ename": "FileNotFoundError",
     "evalue": "Unsuccessful TensorSliceReader constructor: Failed to find any matching files for ram://3c582e07-dee4-483d-bd9f-eb1a7db92c10/variables/variables\n You may be trying to load on a different device from the computational device. Consider setting the `experimental_io_device` option in `tf.saved_model.LoadOptions` to the io_device such as '/job:localhost'.",
     "output_type": "error",
     "traceback": [
      "\u001b[1;31m---------------------------------------------------------------------------\u001b[0m",
      "\u001b[1;31mFileNotFoundError\u001b[0m                         Traceback (most recent call last)",
      "\u001b[1;32m~\\AppData\\Local\\Temp\\ipykernel_11864\\1047491879.py\u001b[0m in \u001b[0;36m<module>\u001b[1;34m\u001b[0m\n\u001b[0;32m      1\u001b[0m \u001b[1;31m#RNN K-FOLD BEFORE TUNING\u001b[0m\u001b[1;33m\u001b[0m\u001b[1;33m\u001b[0m\u001b[0m\n\u001b[0;32m      2\u001b[0m \u001b[0mfile_rnn_fold_before\u001b[0m \u001b[1;33m=\u001b[0m \u001b[1;33m[\u001b[0m\u001b[1;33m(\u001b[0m\u001b[1;34m\"/Users/asus/notebook/TA/Dann Dataset/RNN Model/rnn_model_before_tuning_fold_\"\u001b[0m \u001b[1;33m+\u001b[0m \u001b[0mstr\u001b[0m\u001b[1;33m(\u001b[0m\u001b[0mfn\u001b[0m\u001b[1;33m+\u001b[0m\u001b[1;36m1\u001b[0m\u001b[1;33m)\u001b[0m \u001b[1;33m+\u001b[0m \u001b[1;34m\".h5\"\u001b[0m\u001b[1;33m)\u001b[0m \u001b[1;32mfor\u001b[0m \u001b[0mfn\u001b[0m \u001b[1;32min\u001b[0m \u001b[0mrange\u001b[0m\u001b[1;33m(\u001b[0m\u001b[0mtotal_fold\u001b[0m\u001b[1;33m)\u001b[0m\u001b[1;33m]\u001b[0m\u001b[1;33m\u001b[0m\u001b[1;33m\u001b[0m\u001b[0m\n\u001b[1;32m----> 3\u001b[1;33m \u001b[0mloaded_model_rnn_before\u001b[0m \u001b[1;33m=\u001b[0m \u001b[1;33m[\u001b[0m\u001b[1;33m(\u001b[0m\u001b[0mpickle\u001b[0m\u001b[1;33m.\u001b[0m\u001b[0mload\u001b[0m\u001b[1;33m(\u001b[0m\u001b[0mopen\u001b[0m\u001b[1;33m(\u001b[0m\u001b[0mfile_rnn_fold_before\u001b[0m\u001b[1;33m[\u001b[0m\u001b[0mlm\u001b[0m\u001b[1;33m]\u001b[0m\u001b[1;33m,\u001b[0m \u001b[1;34m\"rb\"\u001b[0m\u001b[1;33m)\u001b[0m\u001b[1;33m)\u001b[0m\u001b[1;33m)\u001b[0m \u001b[1;32mfor\u001b[0m \u001b[0mlm\u001b[0m \u001b[1;32min\u001b[0m \u001b[0mrange\u001b[0m\u001b[1;33m(\u001b[0m\u001b[0mtotal_fold\u001b[0m\u001b[1;33m)\u001b[0m\u001b[1;33m]\u001b[0m\u001b[1;33m\u001b[0m\u001b[1;33m\u001b[0m\u001b[0m\n\u001b[0m\u001b[0;32m      4\u001b[0m \u001b[0my_pred_rnn_before\u001b[0m \u001b[1;33m=\u001b[0m \u001b[1;33m[\u001b[0m\u001b[1;33m(\u001b[0m\u001b[0mloaded_model_rnn_before\u001b[0m\u001b[1;33m[\u001b[0m\u001b[0myp\u001b[0m\u001b[1;33m]\u001b[0m\u001b[1;33m.\u001b[0m\u001b[0mpredict\u001b[0m\u001b[1;33m(\u001b[0m\u001b[0mx_test\u001b[0m\u001b[1;33m)\u001b[0m\u001b[1;33m)\u001b[0m \u001b[1;32mfor\u001b[0m \u001b[0myp\u001b[0m \u001b[1;32min\u001b[0m \u001b[0mrange\u001b[0m\u001b[1;33m(\u001b[0m\u001b[0mtotal_fold\u001b[0m\u001b[1;33m)\u001b[0m\u001b[1;33m]\u001b[0m\u001b[1;33m\u001b[0m\u001b[1;33m\u001b[0m\u001b[0m\n\u001b[0;32m      5\u001b[0m \u001b[0my_pred_values_rnn_before\u001b[0m \u001b[1;33m=\u001b[0m \u001b[1;33m[\u001b[0m\u001b[1;33m(\u001b[0m\u001b[0mnp\u001b[0m\u001b[1;33m.\u001b[0m\u001b[0margmax\u001b[0m\u001b[1;33m(\u001b[0m\u001b[0my_pred_rnn_before\u001b[0m\u001b[1;33m[\u001b[0m\u001b[0mypv\u001b[0m\u001b[1;33m]\u001b[0m\u001b[1;33m,\u001b[0m \u001b[0maxis\u001b[0m \u001b[1;33m=\u001b[0m \u001b[1;36m1\u001b[0m\u001b[1;33m)\u001b[0m\u001b[1;33m)\u001b[0m \u001b[1;32mfor\u001b[0m \u001b[0mypv\u001b[0m \u001b[1;32min\u001b[0m \u001b[0mrange\u001b[0m\u001b[1;33m(\u001b[0m\u001b[0mtotal_fold\u001b[0m\u001b[1;33m)\u001b[0m\u001b[1;33m]\u001b[0m\u001b[1;33m\u001b[0m\u001b[1;33m\u001b[0m\u001b[0m\n",
      "\u001b[1;32m~\\AppData\\Local\\Temp\\ipykernel_11864\\1047491879.py\u001b[0m in \u001b[0;36m<listcomp>\u001b[1;34m(.0)\u001b[0m\n\u001b[0;32m      1\u001b[0m \u001b[1;31m#RNN K-FOLD BEFORE TUNING\u001b[0m\u001b[1;33m\u001b[0m\u001b[1;33m\u001b[0m\u001b[0m\n\u001b[0;32m      2\u001b[0m \u001b[0mfile_rnn_fold_before\u001b[0m \u001b[1;33m=\u001b[0m \u001b[1;33m[\u001b[0m\u001b[1;33m(\u001b[0m\u001b[1;34m\"/Users/asus/notebook/TA/Dann Dataset/RNN Model/rnn_model_before_tuning_fold_\"\u001b[0m \u001b[1;33m+\u001b[0m \u001b[0mstr\u001b[0m\u001b[1;33m(\u001b[0m\u001b[0mfn\u001b[0m\u001b[1;33m+\u001b[0m\u001b[1;36m1\u001b[0m\u001b[1;33m)\u001b[0m \u001b[1;33m+\u001b[0m \u001b[1;34m\".h5\"\u001b[0m\u001b[1;33m)\u001b[0m \u001b[1;32mfor\u001b[0m \u001b[0mfn\u001b[0m \u001b[1;32min\u001b[0m \u001b[0mrange\u001b[0m\u001b[1;33m(\u001b[0m\u001b[0mtotal_fold\u001b[0m\u001b[1;33m)\u001b[0m\u001b[1;33m]\u001b[0m\u001b[1;33m\u001b[0m\u001b[1;33m\u001b[0m\u001b[0m\n\u001b[1;32m----> 3\u001b[1;33m \u001b[0mloaded_model_rnn_before\u001b[0m \u001b[1;33m=\u001b[0m \u001b[1;33m[\u001b[0m\u001b[1;33m(\u001b[0m\u001b[0mpickle\u001b[0m\u001b[1;33m.\u001b[0m\u001b[0mload\u001b[0m\u001b[1;33m(\u001b[0m\u001b[0mopen\u001b[0m\u001b[1;33m(\u001b[0m\u001b[0mfile_rnn_fold_before\u001b[0m\u001b[1;33m[\u001b[0m\u001b[0mlm\u001b[0m\u001b[1;33m]\u001b[0m\u001b[1;33m,\u001b[0m \u001b[1;34m\"rb\"\u001b[0m\u001b[1;33m)\u001b[0m\u001b[1;33m)\u001b[0m\u001b[1;33m)\u001b[0m \u001b[1;32mfor\u001b[0m \u001b[0mlm\u001b[0m \u001b[1;32min\u001b[0m \u001b[0mrange\u001b[0m\u001b[1;33m(\u001b[0m\u001b[0mtotal_fold\u001b[0m\u001b[1;33m)\u001b[0m\u001b[1;33m]\u001b[0m\u001b[1;33m\u001b[0m\u001b[1;33m\u001b[0m\u001b[0m\n\u001b[0m\u001b[0;32m      4\u001b[0m \u001b[0my_pred_rnn_before\u001b[0m \u001b[1;33m=\u001b[0m \u001b[1;33m[\u001b[0m\u001b[1;33m(\u001b[0m\u001b[0mloaded_model_rnn_before\u001b[0m\u001b[1;33m[\u001b[0m\u001b[0myp\u001b[0m\u001b[1;33m]\u001b[0m\u001b[1;33m.\u001b[0m\u001b[0mpredict\u001b[0m\u001b[1;33m(\u001b[0m\u001b[0mx_test\u001b[0m\u001b[1;33m)\u001b[0m\u001b[1;33m)\u001b[0m \u001b[1;32mfor\u001b[0m \u001b[0myp\u001b[0m \u001b[1;32min\u001b[0m \u001b[0mrange\u001b[0m\u001b[1;33m(\u001b[0m\u001b[0mtotal_fold\u001b[0m\u001b[1;33m)\u001b[0m\u001b[1;33m]\u001b[0m\u001b[1;33m\u001b[0m\u001b[1;33m\u001b[0m\u001b[0m\n\u001b[0;32m      5\u001b[0m \u001b[0my_pred_values_rnn_before\u001b[0m \u001b[1;33m=\u001b[0m \u001b[1;33m[\u001b[0m\u001b[1;33m(\u001b[0m\u001b[0mnp\u001b[0m\u001b[1;33m.\u001b[0m\u001b[0margmax\u001b[0m\u001b[1;33m(\u001b[0m\u001b[0my_pred_rnn_before\u001b[0m\u001b[1;33m[\u001b[0m\u001b[0mypv\u001b[0m\u001b[1;33m]\u001b[0m\u001b[1;33m,\u001b[0m \u001b[0maxis\u001b[0m \u001b[1;33m=\u001b[0m \u001b[1;36m1\u001b[0m\u001b[1;33m)\u001b[0m\u001b[1;33m)\u001b[0m \u001b[1;32mfor\u001b[0m \u001b[0mypv\u001b[0m \u001b[1;32min\u001b[0m \u001b[0mrange\u001b[0m\u001b[1;33m(\u001b[0m\u001b[0mtotal_fold\u001b[0m\u001b[1;33m)\u001b[0m\u001b[1;33m]\u001b[0m\u001b[1;33m\u001b[0m\u001b[1;33m\u001b[0m\u001b[0m\n",
      "\u001b[1;32m~\\anaconda3\\lib\\site-packages\\keras\\saving\\pickle_utils.py\u001b[0m in \u001b[0;36mdeserialize_model_from_bytecode\u001b[1;34m(serialized_model)\u001b[0m\n\u001b[0;32m     46\u001b[0m         \u001b[1;32mwith\u001b[0m \u001b[0mtf\u001b[0m\u001b[1;33m.\u001b[0m\u001b[0mio\u001b[0m\u001b[1;33m.\u001b[0m\u001b[0mgfile\u001b[0m\u001b[1;33m.\u001b[0m\u001b[0mGFile\u001b[0m\u001b[1;33m(\u001b[0m\u001b[0mdest_path\u001b[0m\u001b[1;33m,\u001b[0m \u001b[1;34m\"wb\"\u001b[0m\u001b[1;33m)\u001b[0m \u001b[1;32mas\u001b[0m \u001b[0mf\u001b[0m\u001b[1;33m:\u001b[0m\u001b[1;33m\u001b[0m\u001b[1;33m\u001b[0m\u001b[0m\n\u001b[0;32m     47\u001b[0m           \u001b[0mf\u001b[0m\u001b[1;33m.\u001b[0m\u001b[0mwrite\u001b[0m\u001b[1;33m(\u001b[0m\u001b[0marchive\u001b[0m\u001b[1;33m.\u001b[0m\u001b[0mextractfile\u001b[0m\u001b[1;33m(\u001b[0m\u001b[0mname\u001b[0m\u001b[1;33m)\u001b[0m\u001b[1;33m.\u001b[0m\u001b[0mread\u001b[0m\u001b[1;33m(\u001b[0m\u001b[1;33m)\u001b[0m\u001b[1;33m)\u001b[0m\u001b[1;33m\u001b[0m\u001b[1;33m\u001b[0m\u001b[0m\n\u001b[1;32m---> 48\u001b[1;33m   \u001b[0mmodel\u001b[0m \u001b[1;33m=\u001b[0m \u001b[0msave_module\u001b[0m\u001b[1;33m.\u001b[0m\u001b[0mload_model\u001b[0m\u001b[1;33m(\u001b[0m\u001b[0mtemp_dir\u001b[0m\u001b[1;33m)\u001b[0m\u001b[1;33m\u001b[0m\u001b[1;33m\u001b[0m\u001b[0m\n\u001b[0m\u001b[0;32m     49\u001b[0m   \u001b[0mtf\u001b[0m\u001b[1;33m.\u001b[0m\u001b[0mio\u001b[0m\u001b[1;33m.\u001b[0m\u001b[0mgfile\u001b[0m\u001b[1;33m.\u001b[0m\u001b[0mrmtree\u001b[0m\u001b[1;33m(\u001b[0m\u001b[0mtemp_dir\u001b[0m\u001b[1;33m)\u001b[0m\u001b[1;33m\u001b[0m\u001b[1;33m\u001b[0m\u001b[0m\n\u001b[0;32m     50\u001b[0m   \u001b[1;32mreturn\u001b[0m \u001b[0mmodel\u001b[0m\u001b[1;33m\u001b[0m\u001b[1;33m\u001b[0m\u001b[0m\n",
      "\u001b[1;32m~\\anaconda3\\lib\\site-packages\\keras\\utils\\traceback_utils.py\u001b[0m in \u001b[0;36merror_handler\u001b[1;34m(*args, **kwargs)\u001b[0m\n\u001b[0;32m     65\u001b[0m     \u001b[1;32mexcept\u001b[0m \u001b[0mException\u001b[0m \u001b[1;32mas\u001b[0m \u001b[0me\u001b[0m\u001b[1;33m:\u001b[0m  \u001b[1;31m# pylint: disable=broad-except\u001b[0m\u001b[1;33m\u001b[0m\u001b[1;33m\u001b[0m\u001b[0m\n\u001b[0;32m     66\u001b[0m       \u001b[0mfiltered_tb\u001b[0m \u001b[1;33m=\u001b[0m \u001b[0m_process_traceback_frames\u001b[0m\u001b[1;33m(\u001b[0m\u001b[0me\u001b[0m\u001b[1;33m.\u001b[0m\u001b[0m__traceback__\u001b[0m\u001b[1;33m)\u001b[0m\u001b[1;33m\u001b[0m\u001b[1;33m\u001b[0m\u001b[0m\n\u001b[1;32m---> 67\u001b[1;33m       \u001b[1;32mraise\u001b[0m \u001b[0me\u001b[0m\u001b[1;33m.\u001b[0m\u001b[0mwith_traceback\u001b[0m\u001b[1;33m(\u001b[0m\u001b[0mfiltered_tb\u001b[0m\u001b[1;33m)\u001b[0m \u001b[1;32mfrom\u001b[0m \u001b[1;32mNone\u001b[0m\u001b[1;33m\u001b[0m\u001b[1;33m\u001b[0m\u001b[0m\n\u001b[0m\u001b[0;32m     68\u001b[0m     \u001b[1;32mfinally\u001b[0m\u001b[1;33m:\u001b[0m\u001b[1;33m\u001b[0m\u001b[1;33m\u001b[0m\u001b[0m\n\u001b[0;32m     69\u001b[0m       \u001b[1;32mdel\u001b[0m \u001b[0mfiltered_tb\u001b[0m\u001b[1;33m\u001b[0m\u001b[1;33m\u001b[0m\u001b[0m\n",
      "\u001b[1;32m~\\anaconda3\\lib\\site-packages\\tensorflow\\python\\saved_model\\load.py\u001b[0m in \u001b[0;36mload_partial\u001b[1;34m(export_dir, filters, tags, options)\u001b[0m\n\u001b[0;32m    913\u001b[0m                         ckpt_options, options, filters)\n\u001b[0;32m    914\u001b[0m       \u001b[1;32mexcept\u001b[0m \u001b[0merrors\u001b[0m\u001b[1;33m.\u001b[0m\u001b[0mNotFoundError\u001b[0m \u001b[1;32mas\u001b[0m \u001b[0merr\u001b[0m\u001b[1;33m:\u001b[0m\u001b[1;33m\u001b[0m\u001b[1;33m\u001b[0m\u001b[0m\n\u001b[1;32m--> 915\u001b[1;33m         raise FileNotFoundError(\n\u001b[0m\u001b[0;32m    916\u001b[0m             \u001b[0mstr\u001b[0m\u001b[1;33m(\u001b[0m\u001b[0merr\u001b[0m\u001b[1;33m)\u001b[0m \u001b[1;33m+\u001b[0m \u001b[1;34m\"\\n You may be trying to load on a different device \"\u001b[0m\u001b[1;33m\u001b[0m\u001b[1;33m\u001b[0m\u001b[0m\n\u001b[0;32m    917\u001b[0m             \u001b[1;34m\"from the computational device. Consider setting the \"\u001b[0m\u001b[1;33m\u001b[0m\u001b[1;33m\u001b[0m\u001b[0m\n",
      "\u001b[1;31mFileNotFoundError\u001b[0m: Unsuccessful TensorSliceReader constructor: Failed to find any matching files for ram://3c582e07-dee4-483d-bd9f-eb1a7db92c10/variables/variables\n You may be trying to load on a different device from the computational device. Consider setting the `experimental_io_device` option in `tf.saved_model.LoadOptions` to the io_device such as '/job:localhost'."
     ]
    }
   ],
   "source": [
    "#RNN K-FOLD BEFORE TUNING \n",
    "file_rnn_fold_before = [(\"/Users/asus/notebook/TA/Dann Dataset/RNN Model/rnn_model_before_tuning_fold_\" + str(fn+1) + \".h5\") for fn in range(total_fold)]\n",
    "loaded_model_rnn_before = [(pickle.load(open(file_rnn_fold_before[lm], \"rb\"))) for lm in range(total_fold)]\n",
    "y_pred_rnn_before = [(loaded_model_rnn_before[yp].predict(x_test)) for yp in range(total_fold)] \n",
    "y_pred_values_rnn_before = [(np.argmax(y_pred_rnn_before[ypv], axis = 1)) for ypv in range(total_fold)]\n",
    "for ypvc in range(total_fold):\n",
    "  y_pred_values_rnn_before[ypvc] = np.reshape(y_pred_values_rnn_before[ypvc],(-1,1))\n",
    "result_rnn_before = [(classification_report(y_test, y_pred_values_rnn_before[res], output_dict = True)) for res in range(total_fold)]\n",
    "\n",
    "#RNN K-FOLD AFTER TUNING \n",
    "file_rnn_fold_after = [(\"/Users/asus/notebook/TA/Dann Dataset/RNN Model/rnn_model_after_tuning_fold_\" + str(fn+1) + \".h5\") for fn in range(total_fold)]\n",
    "loaded_model_rnn_after = [(pickle.load(open(file_rnn_fold_after[lm], \"rb\"))) for lm in range(total_fold)]\n",
    "y_pred_rnn_after = [(loaded_model_rnn_after[yp].predict(x_test)) for yp in range(total_fold)] \n",
    "y_pred_values_rnn_after = [(np.argmax(y_pred_rnn_after[ypv], axis = 1)) for ypv in range(total_fold)]\n",
    "for ypvc in range(total_fold):\n",
    "  y_pred_values_rnn_after[ypvc] = np.reshape(y_pred_values_rnn_after[ypvc],(-1,1))\n",
    "result_rnn_after = [(classification_report(y_test, y_pred_values_rnn_after[res], output_dict = True)) for res in range(total_fold)]\n",
    "\n",
    "#GRU K-FOLD BEFORE TUNING\n",
    "file_gru_fold_before = [(\"/Users/asus/notebook/TA/Dann Dataset/GRU Model/gru_model_before_tuning_fold_\" + str(fn+1) + \".h5\") for fn in range(total_fold)]\n",
    "loaded_model_gru_before = [(pickle.load(open(file_gru_fold_before[lm], \"rb\"))) for lm in range(total_fold)]\n",
    "y_pred_gru_before = [(loaded_model_gru_before[yp].predict(x_test)) for yp in range(total_fold)] \n",
    "y_pred_values_gru_before = [(np.argmax(y_pred_gru_before[ypv], axis = 1)) for ypv in range(total_fold)]\n",
    "for ypvc in range(total_fold):\n",
    "  y_pred_values_gru_before[ypvc] = np.reshape(y_pred_values_gru_before[ypvc],(-1,1))\n",
    "result_gru_before = [(classification_report(y_test, y_pred_values_gru_before[res], output_dict = True)) for res in range(total_fold)]\n",
    "\n",
    "#GRU K-FOLD AFTER TUNING\n",
    "file_gru_fold_after = [(\"/Users/asus/notebook/TA/Dann Dataset/GRU Model/gru_model_after_tuning_fold_\" + str(fn+1) + \".h5\") for fn in range(total_fold)]\n",
    "loaded_model_gru_after = [(pickle.load(open(file_gru_fold_after[lm], \"rb\"))) for lm in range(total_fold)]\n",
    "y_pred_gru_after = [(loaded_model_gru_after[yp].predict(x_test)) for yp in range(total_fold)] \n",
    "y_pred_values_gru_after = [(np.argmax(y_pred_gru_after[ypv], axis = 1)) for ypv in range(total_fold)]\n",
    "for ypvc in range(total_fold):\n",
    "  y_pred_values_gru_after[ypvc] = np.reshape(y_pred_values_gru_after[ypvc],(-1,1))\n",
    "result_gru_after = [(classification_report(y_test, y_pred_values_gru_after[res], output_dict = True)) for res in range(total_fold)]\n",
    "\n",
    "#LSTM K-FOLD BEFORE TUNING\n",
    "file_lstm_fold_before = [(\"/Users/asus/notebook/TA/Dann Dataset/LSTM Model/lstm_model_before_tuning_fold_\" + str(fn+1) + \".h5\") for fn in range(total_fold)]\n",
    "loaded_model_lstm_before = [(pickle.load(open(file_lstm_fold_before[lm], \"rb\"))) for lm in range(total_fold)]\n",
    "y_pred_lstm_before = [(loaded_model_lstm_before[yp].predict(x_test)) for yp in range(total_fold)] \n",
    "y_pred_values_lstm_before = [(np.argmax(y_pred_lstm_before[ypv], axis = 1)) for ypv in range(total_fold)]\n",
    "for ypvc in range(total_fold):\n",
    "  y_pred_values_lstm_before[ypvc] = np.reshape(y_pred_values_lstm_before[ypvc],(-1,1))\n",
    "result_lstm_before = [(classification_report(y_test, y_pred_values_lstm_before[res], output_dict = True)) for res in range(total_fold)]\n",
    "\n",
    "#LSTM K-FOLD AFTER TUNING\n",
    "file_lstm_fold_after = [(\"/Users/asus/notebook/TA/Dann Dataset/LSTM Model/lstm_model_after_tuning_fold_\" + str(fn+1) + \".h5\") for fn in range(total_fold)]\n",
    "loaded_model_lstm_after = [(pickle.load(open(file_lstm_fold_after[lm], \"rb\"))) for lm in range(total_fold)]\n",
    "y_pred_lstm_after = [(loaded_model_lstm_after[yp].predict(x_test)) for yp in range(total_fold)] \n",
    "y_pred_values_lstm_after = [(np.argmax(y_pred_lstm_after[ypv], axis = 1)) for ypv in range(total_fold)]\n",
    "for ypvc in range(total_fold):\n",
    "  y_pred_values_lstm_after[ypvc] = np.reshape(y_pred_values_lstm_after[ypvc],(-1,1))\n",
    "result_lstm_after = [(classification_report(y_test, y_pred_values_lstm_after[res], output_dict = True)) for res in range(total_fold)]"
   ]
  },
  {
   "cell_type": "markdown",
   "metadata": {
    "id": "p4NUtnXXOStu"
   },
   "source": [
    "Buat List untuk menampung dari Hasil dari Fold untuk Precision,Recall,Accuracy"
   ]
  },
  {
   "cell_type": "code",
   "execution_count": null,
   "metadata": {
    "id": "H64u5UGcxHJF"
   },
   "outputs": [],
   "source": [
    "precision_list_before = {}\n",
    "precision_list_after = {}\n",
    "recall_list_before = {}\n",
    "recall_list_after = {}\n",
    "accuracy_list_before = {}\n",
    "accuracy_list_after = {}\n",
    "f1_list_before = {}\n",
    "f1_list_after = {}"
   ]
  },
  {
   "cell_type": "markdown",
   "metadata": {
    "id": "E8SnDZvIN6zp"
   },
   "source": [
    "Rata-rata dari Precision,Recall,F1-Score,Accuracy\n",
    "\n",
    "Mengambil data hasil predict pada codingan sebelumnya\n"
   ]
  },
  {
   "cell_type": "code",
   "execution_count": null,
   "metadata": {
    "id": "T36Kk96Lu-MY"
   },
   "outputs": [],
   "source": [
    "for sco in range(total_fold):\n",
    "  precision_list_before[(sco+1)] = [result_rnn_before[sco]['weighted avg']['precision'] , result_gru_before[sco]['weighted avg']['precision'], result_lstm_before[sco]['weighted avg']['precision']]\n",
    "  precision_list_after[(sco+1)] = [result_rnn_after[sco]['weighted avg']['precision'] , result_gru_after[sco]['weighted avg']['precision'], result_lstm_after[sco]['weighted avg']['precision']]\n",
    "  recall_list_before[(sco+1)] = [result_rnn_before[sco]['weighted avg']['recall'] , result_gru_before[sco]['weighted avg']['recall'], result_lstm_before[sco]['weighted avg']['recall']]\n",
    "  recall_list_after[(sco+1)] = [result_rnn_after[sco]['weighted avg']['recall'] , result_gru_after[sco]['weighted avg']['recall'], result_lstm_after[sco]['weighted avg']['recall']]\n",
    "  f1_list_before[(sco+1)] = [result_rnn_before[sco]['weighted avg']['f1-score'] , result_gru_before[sco]['weighted avg']['f1-score'], result_lstm_before[sco]['weighted avg']['f1-score']]\n",
    "  f1_list_after[(sco+1)] = [result_rnn_after[sco]['weighted avg']['f1-score'] , result_gru_after[sco]['weighted avg']['f1-score'], result_lstm_after[sco]['weighted avg']['f1-score']]\n",
    "  accuracy_list_before[(sco+1)] = [result_rnn_before[sco]['accuracy'] , result_gru_before[sco]['accuracy'], result_lstm_before[sco]['accuracy']]\n",
    "  accuracy_list_after[(sco+1)] = [result_rnn_after[sco]['accuracy'] , result_gru_after[sco]['accuracy'], result_lstm_after[sco]['accuracy']]"
   ]
  },
  {
   "cell_type": "markdown",
   "metadata": {
    "id": "eY3txyT23pYf"
   },
   "source": [
    "Menampilkan Hasil Predict Tiap Fold"
   ]
  },
  {
   "cell_type": "code",
   "execution_count": null,
   "metadata": {
    "colab": {
     "base_uri": "https://localhost:8080/"
    },
    "id": "EKzWuXez4jKW",
    "outputId": "285fe92b-56a3-4cd8-f89f-3a692ec4ec75"
   },
   "outputs": [],
   "source": [
    "print(\"{:<5} {:<0}\".format(\"\",\"Precision K-Fold Sebelum Tuning\"))\n",
    "print (\"{:<8} {:<15} {:<10} {:<10}\".format('Fold','RNN','GRU','LSTM'))\n",
    "for k, v in precision_list_before.items():\n",
    "    rnn_fold_data, gru_fold_data, lstm_fold_data = v\n",
    "    print (\"{:<8} {:<15} {:<10} {:<10}\".format(k, format(rnn_fold_data,\".3f\"), format(gru_fold_data,\".3f\"), format(lstm_fold_data,\".3f\") ))\n",
    "print(\"\")\n",
    "print(\"\")\n",
    "print(\"{:<5} {:<0}\".format(\"\",\"Precision K-Fold Sesudah Tuning\"))\n",
    "print (\"{:<8} {:<15} {:<10} {:<10}\".format('Fold','RNN','GRU','LSTM'))\n",
    "for k, v in precision_list_after.items():\n",
    "    rnn_fold_data, gru_fold_data, lstm_fold_data = v\n",
    "    print (\"{:<8} {:<15} {:<10} {:<10}\".format(k, format(rnn_fold_data,\".3f\"), format(gru_fold_data,\".3f\"), format(lstm_fold_data,\".3f\") ))\n",
    "print(\"\")\n",
    "print(\"\")\n",
    "\n",
    "print(\"{:<5} {:<0}\".format(\"\",\"Recall K-Fold Sebelum Tuning\"))\n",
    "print (\"{:<8} {:<15} {:<10} {:<10}\".format('Fold','RNN','GRU','LSTM'))\n",
    "for k, v in recall_list_before.items():\n",
    "    rnn_fold_data, gru_fold_data, lstm_fold_data = v\n",
    "    print (\"{:<8} {:<15} {:<10} {:<10}\".format(k, format(rnn_fold_data,\".3f\"), format(gru_fold_data,\".3f\"), format(lstm_fold_data,\".3f\") ))\n",
    "print(\"\")\n",
    "print(\"\")\n",
    "print(\"{:<5} {:<0}\".format(\"\",\"Recall K-Fold Sesudah Tuning\"))\n",
    "print (\"{:<8} {:<15} {:<10} {:<10}\".format('Fold','RNN','GRU','LSTM'))\n",
    "for k, v in recall_list_after.items():\n",
    "    rnn_fold_data, gru_fold_data, lstm_fold_data = v\n",
    "    print (\"{:<8} {:<15} {:<10} {:<10}\".format(k, format(rnn_fold_data,\".3f\"), format(gru_fold_data,\".3f\"), format(lstm_fold_data,\".3f\") ))\n",
    "print(\"\")\n",
    "print(\"\")\n",
    "\n",
    "print(\"{:<5} {:<0}\".format(\"\",\"Accuracy K-Fold Sebelum Tuning\"))\n",
    "print (\"{:<8} {:<15} {:<10} {:<10}\".format('Fold','RNN','GRU','LSTM'))\n",
    "for k, v in accuracy_list_before.items():\n",
    "    rnn_fold_data, gru_fold_data, lstm_fold_data = v\n",
    "    print (\"{:<8} {:<15} {:<10} {:<10}\".format(k, format(rnn_fold_data,\".3f\"), format(gru_fold_data,\".3f\"), format(lstm_fold_data,\".3f\") ))\n",
    "print(\"\")\n",
    "print(\"\")\n",
    "print(\"{:<5} {:<0}\".format(\"\",\"Accuracy K-Fold Sesudah Tuning\"))\n",
    "print (\"{:<8} {:<15} {:<10} {:<10}\".format('Fold','RNN','GRU','LSTM'))\n",
    "for k, v in accuracy_list_after.items():\n",
    "    rnn_fold_data, gru_fold_data, lstm_fold_data = v\n",
    "    print (\"{:<8} {:<15} {:<10} {:<10}\".format(k, format(rnn_fold_data,\".3f\"), format(gru_fold_data,\".3f\"), format(lstm_fold_data,\".3f\") ))\n",
    "print(\"\")\n",
    "print(\"\")\n",
    "\n",
    "print(\"{:<5} {:<0}\".format(\"\",\"F1-Score K-Fold Sebelum Tuning\"))\n",
    "print (\"{:<8} {:<15} {:<10} {:<10}\".format('Fold','RNN','GRU','LSTM'))\n",
    "for k, v in f1_list_before.items():\n",
    "    rnn_fold_data, gru_fold_data, lstm_fold_data = v\n",
    "    print (\"{:<8} {:<15} {:<10} {:<10}\".format(k, format(rnn_fold_data,\".3f\"), format(gru_fold_data,\".3f\"), format(lstm_fold_data,\".3f\") ))\n",
    "print(\"\")\n",
    "print(\"\")\n",
    "print(\"{:<5} {:<0}\".format(\"\",\"F1-Score K-Fold Sesudah Tuning\"))\n",
    "print (\"{:<8} {:<15} {:<10} {:<10}\".format('Fold','RNN','GRU','LSTM'))\n",
    "for k, v in f1_list_after.items():\n",
    "    rnn_fold_data, gru_fold_data, lstm_fold_data = v\n",
    "    print (\"{:<8} {:<15} {:<10} {:<10}\".format(k, format(rnn_fold_data,\".3f\"), format(gru_fold_data,\".3f\"), format(lstm_fold_data,\".3f\") ))\n",
    "print(\"\")\n",
    "print(\"\")"
   ]
  }
 ],
 "metadata": {
  "colab": {
   "provenance": []
  },
  "kernelspec": {
   "display_name": "Python 3 (ipykernel)",
   "language": "python",
   "name": "python3"
  },
  "language_info": {
   "codemirror_mode": {
    "name": "ipython",
    "version": 3
   },
   "file_extension": ".py",
   "mimetype": "text/x-python",
   "name": "python",
   "nbconvert_exporter": "python",
   "pygments_lexer": "ipython3",
   "version": "3.9.13"
  }
 },
 "nbformat": 4,
 "nbformat_minor": 1
}
